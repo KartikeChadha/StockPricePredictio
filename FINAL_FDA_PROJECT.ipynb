{
  "nbformat": 4,
  "nbformat_minor": 0,
  "metadata": {
    "colab": {
      "provenance": [],
      "collapsed_sections": []
    },
    "kernelspec": {
      "name": "python3",
      "display_name": "Python 3"
    },
    "language_info": {
      "name": "python"
    },
    "accelerator": "GPU",
    "gpuClass": "standard"
  },
  "cells": [
    {
      "cell_type": "markdown",
      "source": [
        "###**FDA JCOMP STOCK MARKET PREDICTION**"
      ],
      "metadata": {
        "id": "AgfNJV2Gg6m_"
      }
    },
    {
      "cell_type": "code",
      "source": [
        "pip install nsepy"
      ],
      "metadata": {
        "colab": {
          "base_uri": "https://localhost:8080/"
        },
        "id": "Xwmu04HUhPq6",
        "outputId": "83a0fae9-6fe2-4b0d-bb6d-d5335335ee7d"
      },
      "execution_count": null,
      "outputs": [
        {
          "output_type": "stream",
          "name": "stdout",
          "text": [
            "Looking in indexes: https://pypi.org/simple, https://us-python.pkg.dev/colab-wheels/public/simple/\n",
            "Requirement already satisfied: nsepy in /usr/local/lib/python3.7/dist-packages (0.8)\n",
            "Requirement already satisfied: numpy in /usr/local/lib/python3.7/dist-packages (from nsepy) (1.21.6)\n",
            "Requirement already satisfied: click in /usr/local/lib/python3.7/dist-packages (from nsepy) (7.1.2)\n",
            "Requirement already satisfied: pandas in /usr/local/lib/python3.7/dist-packages (from nsepy) (1.3.5)\n",
            "Requirement already satisfied: requests in /usr/local/lib/python3.7/dist-packages (from nsepy) (2.23.0)\n",
            "Requirement already satisfied: beautifulsoup4 in /usr/local/lib/python3.7/dist-packages (from nsepy) (4.6.3)\n",
            "Requirement already satisfied: lxml in /usr/local/lib/python3.7/dist-packages (from nsepy) (4.9.1)\n",
            "Requirement already satisfied: six in /usr/local/lib/python3.7/dist-packages (from nsepy) (1.15.0)\n",
            "Requirement already satisfied: pytz>=2017.3 in /usr/local/lib/python3.7/dist-packages (from pandas->nsepy) (2022.5)\n",
            "Requirement already satisfied: python-dateutil>=2.7.3 in /usr/local/lib/python3.7/dist-packages (from pandas->nsepy) (2.8.2)\n",
            "Requirement already satisfied: chardet<4,>=3.0.2 in /usr/local/lib/python3.7/dist-packages (from requests->nsepy) (3.0.4)\n",
            "Requirement already satisfied: idna<3,>=2.5 in /usr/local/lib/python3.7/dist-packages (from requests->nsepy) (2.10)\n",
            "Requirement already satisfied: urllib3!=1.25.0,!=1.25.1,<1.26,>=1.21.1 in /usr/local/lib/python3.7/dist-packages (from requests->nsepy) (1.24.3)\n",
            "Requirement already satisfied: certifi>=2017.4.17 in /usr/local/lib/python3.7/dist-packages (from requests->nsepy) (2022.9.24)\n"
          ]
        }
      ]
    },
    {
      "cell_type": "code",
      "source": [
        "pip install ta"
      ],
      "metadata": {
        "colab": {
          "base_uri": "https://localhost:8080/"
        },
        "id": "M1Tpk54ghapA",
        "outputId": "93b1e780-f187-4ddd-ab81-5234a578b0a0"
      },
      "execution_count": null,
      "outputs": [
        {
          "output_type": "stream",
          "name": "stdout",
          "text": [
            "Looking in indexes: https://pypi.org/simple, https://us-python.pkg.dev/colab-wheels/public/simple/\n",
            "Requirement already satisfied: ta in /usr/local/lib/python3.7/dist-packages (0.10.2)\n",
            "Requirement already satisfied: numpy in /usr/local/lib/python3.7/dist-packages (from ta) (1.21.6)\n",
            "Requirement already satisfied: pandas in /usr/local/lib/python3.7/dist-packages (from ta) (1.3.5)\n",
            "Requirement already satisfied: pytz>=2017.3 in /usr/local/lib/python3.7/dist-packages (from pandas->ta) (2022.5)\n",
            "Requirement already satisfied: python-dateutil>=2.7.3 in /usr/local/lib/python3.7/dist-packages (from pandas->ta) (2.8.2)\n",
            "Requirement already satisfied: six>=1.5 in /usr/local/lib/python3.7/dist-packages (from python-dateutil>=2.7.3->pandas->ta) (1.15.0)\n"
          ]
        }
      ]
    },
    {
      "cell_type": "markdown",
      "source": [
        "##DATA PROCESSING"
      ],
      "metadata": {
        "id": "8vL-QBCmj2Fd"
      }
    },
    {
      "cell_type": "code",
      "source": [
        "import pandas as pd\n",
        "import numpy as np\n",
        "import seaborn as sns\n",
        "import matplotlib.pyplot as plt\n",
        "from nsepy import get_history\n",
        "from datetime import date\n",
        "from nsepy.history import get_price_list,get_indices_price_list\n",
        "import datetime as dt\n",
        "from matplotlib.pylab import rcParams\n",
        "rcParams['figure.figsize'] = 15,10\n",
        "from xgboost import XGBRegressor\n",
        "import matplotlib.pyplot as plt\n",
        "from xgboost import plot_importance\n",
        "from sklearn.metrics import mean_absolute_error\n",
        "from sklearn.preprocessing import LabelEncoder\n",
        "from sklearn.model_selection import train_test_split, GridSearchCV,KFold\n",
        "from ta.momentum import RSIIndicator,StochasticOscillator\n",
        "# from fastai.tabular import add_datepart\n",
        "from fastai.imports import *\n",
        "import seaborn as sns\n",
        "import altair as alt\n",
        "sns.set()\n",
        "%matplotlib inline\n",
        "\n",
        "#remove warnings\n",
        "import warnings\n",
        "warnings.filterwarnings('ignore')"
      ],
      "metadata": {
        "id": "QWTSez3Xg7kC"
      },
      "execution_count": null,
      "outputs": []
    },
    {
      "cell_type": "code",
      "source": [
        "data = pd.read_csv(\"TCS.csv\")"
      ],
      "metadata": {
        "id": "7I-YRB2byZCe"
      },
      "execution_count": null,
      "outputs": []
    },
    {
      "cell_type": "code",
      "source": [
        "price = get_price_list(dt=date(2015,1,1))"
      ],
      "metadata": {
        "id": "X9Io9oqHhKrZ"
      },
      "execution_count": null,
      "outputs": []
    },
    {
      "cell_type": "code",
      "source": [
        "data = get_history(symbol=\"TCS\", start=date(2015,1,1), end=date(2016,12,31))"
      ],
      "metadata": {
        "id": "qRt98P4xyFjF"
      },
      "execution_count": null,
      "outputs": []
    },
    {
      "cell_type": "code",
      "source": [
        "data.tail()"
      ],
      "metadata": {
        "colab": {
          "base_uri": "https://localhost:8080/",
          "height": 406
        },
        "id": "eAQlSBDZyNLl",
        "outputId": "889638cf-822b-40f0-f4fb-303fef51c457"
      },
      "execution_count": null,
      "outputs": [
        {
          "output_type": "execute_result",
          "data": {
            "text/plain": [
              "           Symbol Series  Prev Close    Open    High      Low     Last  \\\n",
              "Date                                                                     \n",
              "2016-12-26    TCS     EQ      2288.1  2266.0  2301.6  2266.00  2296.85   \n",
              "2016-12-27    TCS     EQ      2293.1  2281.5  2330.0  2281.50  2322.80   \n",
              "2016-12-28    TCS     EQ      2323.4  2326.7  2349.9  2303.15  2305.25   \n",
              "2016-12-29    TCS     EQ      2313.4  2303.0  2359.9  2303.00  2355.00   \n",
              "2016-12-30    TCS     EQ      2351.7  2354.9  2378.6  2345.65  2366.55   \n",
              "\n",
              "              Close     VWAP  Volume      Turnover  Trades  \\\n",
              "Date                                                         \n",
              "2016-12-26  2293.10  2290.60  448704  1.027802e+14   29524   \n",
              "2016-12-27  2323.40  2317.79  647346  1.500411e+14   42719   \n",
              "2016-12-28  2313.40  2335.86  675209  1.577194e+14   65267   \n",
              "2016-12-29  2351.70  2346.25  981758  2.303445e+14   64945   \n",
              "2016-12-30  2365.55  2366.64  702874  1.663448e+14   44979   \n",
              "\n",
              "            Deliverable Volume  %Deliverble  \n",
              "Date                                         \n",
              "2016-12-26              213160       0.4751  \n",
              "2016-12-27              358760       0.5542  \n",
              "2016-12-28              420288       0.6225  \n",
              "2016-12-29              575262       0.5860  \n",
              "2016-12-30              456203       0.6491  "
            ],
            "text/html": [
              "\n",
              "  <div id=\"df-ef281bef-5d12-414c-9054-fb89ba4cb360\">\n",
              "    <div class=\"colab-df-container\">\n",
              "      <div>\n",
              "<style scoped>\n",
              "    .dataframe tbody tr th:only-of-type {\n",
              "        vertical-align: middle;\n",
              "    }\n",
              "\n",
              "    .dataframe tbody tr th {\n",
              "        vertical-align: top;\n",
              "    }\n",
              "\n",
              "    .dataframe thead th {\n",
              "        text-align: right;\n",
              "    }\n",
              "</style>\n",
              "<table border=\"1\" class=\"dataframe\">\n",
              "  <thead>\n",
              "    <tr style=\"text-align: right;\">\n",
              "      <th></th>\n",
              "      <th>Symbol</th>\n",
              "      <th>Series</th>\n",
              "      <th>Prev Close</th>\n",
              "      <th>Open</th>\n",
              "      <th>High</th>\n",
              "      <th>Low</th>\n",
              "      <th>Last</th>\n",
              "      <th>Close</th>\n",
              "      <th>VWAP</th>\n",
              "      <th>Volume</th>\n",
              "      <th>Turnover</th>\n",
              "      <th>Trades</th>\n",
              "      <th>Deliverable Volume</th>\n",
              "      <th>%Deliverble</th>\n",
              "    </tr>\n",
              "    <tr>\n",
              "      <th>Date</th>\n",
              "      <th></th>\n",
              "      <th></th>\n",
              "      <th></th>\n",
              "      <th></th>\n",
              "      <th></th>\n",
              "      <th></th>\n",
              "      <th></th>\n",
              "      <th></th>\n",
              "      <th></th>\n",
              "      <th></th>\n",
              "      <th></th>\n",
              "      <th></th>\n",
              "      <th></th>\n",
              "      <th></th>\n",
              "    </tr>\n",
              "  </thead>\n",
              "  <tbody>\n",
              "    <tr>\n",
              "      <th>2016-12-26</th>\n",
              "      <td>TCS</td>\n",
              "      <td>EQ</td>\n",
              "      <td>2288.1</td>\n",
              "      <td>2266.0</td>\n",
              "      <td>2301.6</td>\n",
              "      <td>2266.00</td>\n",
              "      <td>2296.85</td>\n",
              "      <td>2293.10</td>\n",
              "      <td>2290.60</td>\n",
              "      <td>448704</td>\n",
              "      <td>1.027802e+14</td>\n",
              "      <td>29524</td>\n",
              "      <td>213160</td>\n",
              "      <td>0.4751</td>\n",
              "    </tr>\n",
              "    <tr>\n",
              "      <th>2016-12-27</th>\n",
              "      <td>TCS</td>\n",
              "      <td>EQ</td>\n",
              "      <td>2293.1</td>\n",
              "      <td>2281.5</td>\n",
              "      <td>2330.0</td>\n",
              "      <td>2281.50</td>\n",
              "      <td>2322.80</td>\n",
              "      <td>2323.40</td>\n",
              "      <td>2317.79</td>\n",
              "      <td>647346</td>\n",
              "      <td>1.500411e+14</td>\n",
              "      <td>42719</td>\n",
              "      <td>358760</td>\n",
              "      <td>0.5542</td>\n",
              "    </tr>\n",
              "    <tr>\n",
              "      <th>2016-12-28</th>\n",
              "      <td>TCS</td>\n",
              "      <td>EQ</td>\n",
              "      <td>2323.4</td>\n",
              "      <td>2326.7</td>\n",
              "      <td>2349.9</td>\n",
              "      <td>2303.15</td>\n",
              "      <td>2305.25</td>\n",
              "      <td>2313.40</td>\n",
              "      <td>2335.86</td>\n",
              "      <td>675209</td>\n",
              "      <td>1.577194e+14</td>\n",
              "      <td>65267</td>\n",
              "      <td>420288</td>\n",
              "      <td>0.6225</td>\n",
              "    </tr>\n",
              "    <tr>\n",
              "      <th>2016-12-29</th>\n",
              "      <td>TCS</td>\n",
              "      <td>EQ</td>\n",
              "      <td>2313.4</td>\n",
              "      <td>2303.0</td>\n",
              "      <td>2359.9</td>\n",
              "      <td>2303.00</td>\n",
              "      <td>2355.00</td>\n",
              "      <td>2351.70</td>\n",
              "      <td>2346.25</td>\n",
              "      <td>981758</td>\n",
              "      <td>2.303445e+14</td>\n",
              "      <td>64945</td>\n",
              "      <td>575262</td>\n",
              "      <td>0.5860</td>\n",
              "    </tr>\n",
              "    <tr>\n",
              "      <th>2016-12-30</th>\n",
              "      <td>TCS</td>\n",
              "      <td>EQ</td>\n",
              "      <td>2351.7</td>\n",
              "      <td>2354.9</td>\n",
              "      <td>2378.6</td>\n",
              "      <td>2345.65</td>\n",
              "      <td>2366.55</td>\n",
              "      <td>2365.55</td>\n",
              "      <td>2366.64</td>\n",
              "      <td>702874</td>\n",
              "      <td>1.663448e+14</td>\n",
              "      <td>44979</td>\n",
              "      <td>456203</td>\n",
              "      <td>0.6491</td>\n",
              "    </tr>\n",
              "  </tbody>\n",
              "</table>\n",
              "</div>\n",
              "      <button class=\"colab-df-convert\" onclick=\"convertToInteractive('df-ef281bef-5d12-414c-9054-fb89ba4cb360')\"\n",
              "              title=\"Convert this dataframe to an interactive table.\"\n",
              "              style=\"display:none;\">\n",
              "        \n",
              "  <svg xmlns=\"http://www.w3.org/2000/svg\" height=\"24px\"viewBox=\"0 0 24 24\"\n",
              "       width=\"24px\">\n",
              "    <path d=\"M0 0h24v24H0V0z\" fill=\"none\"/>\n",
              "    <path d=\"M18.56 5.44l.94 2.06.94-2.06 2.06-.94-2.06-.94-.94-2.06-.94 2.06-2.06.94zm-11 1L8.5 8.5l.94-2.06 2.06-.94-2.06-.94L8.5 2.5l-.94 2.06-2.06.94zm10 10l.94 2.06.94-2.06 2.06-.94-2.06-.94-.94-2.06-.94 2.06-2.06.94z\"/><path d=\"M17.41 7.96l-1.37-1.37c-.4-.4-.92-.59-1.43-.59-.52 0-1.04.2-1.43.59L10.3 9.45l-7.72 7.72c-.78.78-.78 2.05 0 2.83L4 21.41c.39.39.9.59 1.41.59.51 0 1.02-.2 1.41-.59l7.78-7.78 2.81-2.81c.8-.78.8-2.07 0-2.86zM5.41 20L4 18.59l7.72-7.72 1.47 1.35L5.41 20z\"/>\n",
              "  </svg>\n",
              "      </button>\n",
              "      \n",
              "  <style>\n",
              "    .colab-df-container {\n",
              "      display:flex;\n",
              "      flex-wrap:wrap;\n",
              "      gap: 12px;\n",
              "    }\n",
              "\n",
              "    .colab-df-convert {\n",
              "      background-color: #E8F0FE;\n",
              "      border: none;\n",
              "      border-radius: 50%;\n",
              "      cursor: pointer;\n",
              "      display: none;\n",
              "      fill: #1967D2;\n",
              "      height: 32px;\n",
              "      padding: 0 0 0 0;\n",
              "      width: 32px;\n",
              "    }\n",
              "\n",
              "    .colab-df-convert:hover {\n",
              "      background-color: #E2EBFA;\n",
              "      box-shadow: 0px 1px 2px rgba(60, 64, 67, 0.3), 0px 1px 3px 1px rgba(60, 64, 67, 0.15);\n",
              "      fill: #174EA6;\n",
              "    }\n",
              "\n",
              "    [theme=dark] .colab-df-convert {\n",
              "      background-color: #3B4455;\n",
              "      fill: #D2E3FC;\n",
              "    }\n",
              "\n",
              "    [theme=dark] .colab-df-convert:hover {\n",
              "      background-color: #434B5C;\n",
              "      box-shadow: 0px 1px 3px 1px rgba(0, 0, 0, 0.15);\n",
              "      filter: drop-shadow(0px 1px 2px rgba(0, 0, 0, 0.3));\n",
              "      fill: #FFFFFF;\n",
              "    }\n",
              "  </style>\n",
              "\n",
              "      <script>\n",
              "        const buttonEl =\n",
              "          document.querySelector('#df-ef281bef-5d12-414c-9054-fb89ba4cb360 button.colab-df-convert');\n",
              "        buttonEl.style.display =\n",
              "          google.colab.kernel.accessAllowed ? 'block' : 'none';\n",
              "\n",
              "        async function convertToInteractive(key) {\n",
              "          const element = document.querySelector('#df-ef281bef-5d12-414c-9054-fb89ba4cb360');\n",
              "          const dataTable =\n",
              "            await google.colab.kernel.invokeFunction('convertToInteractive',\n",
              "                                                     [key], {});\n",
              "          if (!dataTable) return;\n",
              "\n",
              "          const docLinkHtml = 'Like what you see? Visit the ' +\n",
              "            '<a target=\"_blank\" href=https://colab.research.google.com/notebooks/data_table.ipynb>data table notebook</a>'\n",
              "            + ' to learn more about interactive tables.';\n",
              "          element.innerHTML = '';\n",
              "          dataTable['output_type'] = 'display_data';\n",
              "          await google.colab.output.renderOutput(dataTable, element);\n",
              "          const docLink = document.createElement('div');\n",
              "          docLink.innerHTML = docLinkHtml;\n",
              "          element.appendChild(docLink);\n",
              "        }\n",
              "      </script>\n",
              "    </div>\n",
              "  </div>\n",
              "  "
            ]
          },
          "metadata": {},
          "execution_count": 7
        }
      ]
    },
    {
      "cell_type": "code",
      "source": [
        "data_new=data.drop(['Symbol', 'Series','Last', 'VWAP', 'Turnover', 'Trades', 'Deliverable Volume', '%Deliverble'],axis=1)"
      ],
      "metadata": {
        "id": "0ZPDd0KOiwj0"
      },
      "execution_count": null,
      "outputs": []
    },
    {
      "cell_type": "code",
      "source": [
        "def ChangeIndex(share):\n",
        "  '''Changes Date index to datetime datatype'''\n",
        "  share.index = pd.to_datetime(share.index) # chane index to datetime format\n",
        "  pass"
      ],
      "metadata": {
        "id": "isABi2ydjCna"
      },
      "execution_count": null,
      "outputs": []
    },
    {
      "cell_type": "code",
      "source": [
        "ChangeIndex(data_new)"
      ],
      "metadata": {
        "id": "J8FmzB1ljGhh"
      },
      "execution_count": null,
      "outputs": []
    },
    {
      "cell_type": "code",
      "source": [
        "data_new.reset_index(inplace=True)"
      ],
      "metadata": {
        "id": "B-juND00jI2z"
      },
      "execution_count": null,
      "outputs": []
    },
    {
      "cell_type": "code",
      "source": [
        "data_new.head()"
      ],
      "metadata": {
        "colab": {
          "base_uri": "https://localhost:8080/",
          "height": 206
        },
        "id": "bfD7z7nbjLMb",
        "outputId": "738dd3b6-7de3-4a65-a4c4-a744bb2508a9"
      },
      "execution_count": null,
      "outputs": [
        {
          "output_type": "execute_result",
          "data": {
            "text/plain": [
              "        Date  Prev Close    Open     High      Low    Close   Volume\n",
              "0 2015-01-01     2558.25  2567.0  2567.00  2541.00  2545.55   183415\n",
              "1 2015-01-02     2545.55  2551.0  2590.95  2550.60  2579.45   462870\n",
              "2 2015-01-05     2579.45  2581.0  2599.90  2524.65  2540.25   877121\n",
              "3 2015-01-06     2540.25  2529.1  2529.10  2440.00  2446.60  1211892\n",
              "4 2015-01-07     2446.60  2470.0  2479.15  2407.45  2417.70  1318166"
            ],
            "text/html": [
              "\n",
              "  <div id=\"df-bf18bfad-3b6c-467c-bcb6-0537a8fa4215\">\n",
              "    <div class=\"colab-df-container\">\n",
              "      <div>\n",
              "<style scoped>\n",
              "    .dataframe tbody tr th:only-of-type {\n",
              "        vertical-align: middle;\n",
              "    }\n",
              "\n",
              "    .dataframe tbody tr th {\n",
              "        vertical-align: top;\n",
              "    }\n",
              "\n",
              "    .dataframe thead th {\n",
              "        text-align: right;\n",
              "    }\n",
              "</style>\n",
              "<table border=\"1\" class=\"dataframe\">\n",
              "  <thead>\n",
              "    <tr style=\"text-align: right;\">\n",
              "      <th></th>\n",
              "      <th>Date</th>\n",
              "      <th>Prev Close</th>\n",
              "      <th>Open</th>\n",
              "      <th>High</th>\n",
              "      <th>Low</th>\n",
              "      <th>Close</th>\n",
              "      <th>Volume</th>\n",
              "    </tr>\n",
              "  </thead>\n",
              "  <tbody>\n",
              "    <tr>\n",
              "      <th>0</th>\n",
              "      <td>2015-01-01</td>\n",
              "      <td>2558.25</td>\n",
              "      <td>2567.0</td>\n",
              "      <td>2567.00</td>\n",
              "      <td>2541.00</td>\n",
              "      <td>2545.55</td>\n",
              "      <td>183415</td>\n",
              "    </tr>\n",
              "    <tr>\n",
              "      <th>1</th>\n",
              "      <td>2015-01-02</td>\n",
              "      <td>2545.55</td>\n",
              "      <td>2551.0</td>\n",
              "      <td>2590.95</td>\n",
              "      <td>2550.60</td>\n",
              "      <td>2579.45</td>\n",
              "      <td>462870</td>\n",
              "    </tr>\n",
              "    <tr>\n",
              "      <th>2</th>\n",
              "      <td>2015-01-05</td>\n",
              "      <td>2579.45</td>\n",
              "      <td>2581.0</td>\n",
              "      <td>2599.90</td>\n",
              "      <td>2524.65</td>\n",
              "      <td>2540.25</td>\n",
              "      <td>877121</td>\n",
              "    </tr>\n",
              "    <tr>\n",
              "      <th>3</th>\n",
              "      <td>2015-01-06</td>\n",
              "      <td>2540.25</td>\n",
              "      <td>2529.1</td>\n",
              "      <td>2529.10</td>\n",
              "      <td>2440.00</td>\n",
              "      <td>2446.60</td>\n",
              "      <td>1211892</td>\n",
              "    </tr>\n",
              "    <tr>\n",
              "      <th>4</th>\n",
              "      <td>2015-01-07</td>\n",
              "      <td>2446.60</td>\n",
              "      <td>2470.0</td>\n",
              "      <td>2479.15</td>\n",
              "      <td>2407.45</td>\n",
              "      <td>2417.70</td>\n",
              "      <td>1318166</td>\n",
              "    </tr>\n",
              "  </tbody>\n",
              "</table>\n",
              "</div>\n",
              "      <button class=\"colab-df-convert\" onclick=\"convertToInteractive('df-bf18bfad-3b6c-467c-bcb6-0537a8fa4215')\"\n",
              "              title=\"Convert this dataframe to an interactive table.\"\n",
              "              style=\"display:none;\">\n",
              "        \n",
              "  <svg xmlns=\"http://www.w3.org/2000/svg\" height=\"24px\"viewBox=\"0 0 24 24\"\n",
              "       width=\"24px\">\n",
              "    <path d=\"M0 0h24v24H0V0z\" fill=\"none\"/>\n",
              "    <path d=\"M18.56 5.44l.94 2.06.94-2.06 2.06-.94-2.06-.94-.94-2.06-.94 2.06-2.06.94zm-11 1L8.5 8.5l.94-2.06 2.06-.94-2.06-.94L8.5 2.5l-.94 2.06-2.06.94zm10 10l.94 2.06.94-2.06 2.06-.94-2.06-.94-.94-2.06-.94 2.06-2.06.94z\"/><path d=\"M17.41 7.96l-1.37-1.37c-.4-.4-.92-.59-1.43-.59-.52 0-1.04.2-1.43.59L10.3 9.45l-7.72 7.72c-.78.78-.78 2.05 0 2.83L4 21.41c.39.39.9.59 1.41.59.51 0 1.02-.2 1.41-.59l7.78-7.78 2.81-2.81c.8-.78.8-2.07 0-2.86zM5.41 20L4 18.59l7.72-7.72 1.47 1.35L5.41 20z\"/>\n",
              "  </svg>\n",
              "      </button>\n",
              "      \n",
              "  <style>\n",
              "    .colab-df-container {\n",
              "      display:flex;\n",
              "      flex-wrap:wrap;\n",
              "      gap: 12px;\n",
              "    }\n",
              "\n",
              "    .colab-df-convert {\n",
              "      background-color: #E8F0FE;\n",
              "      border: none;\n",
              "      border-radius: 50%;\n",
              "      cursor: pointer;\n",
              "      display: none;\n",
              "      fill: #1967D2;\n",
              "      height: 32px;\n",
              "      padding: 0 0 0 0;\n",
              "      width: 32px;\n",
              "    }\n",
              "\n",
              "    .colab-df-convert:hover {\n",
              "      background-color: #E2EBFA;\n",
              "      box-shadow: 0px 1px 2px rgba(60, 64, 67, 0.3), 0px 1px 3px 1px rgba(60, 64, 67, 0.15);\n",
              "      fill: #174EA6;\n",
              "    }\n",
              "\n",
              "    [theme=dark] .colab-df-convert {\n",
              "      background-color: #3B4455;\n",
              "      fill: #D2E3FC;\n",
              "    }\n",
              "\n",
              "    [theme=dark] .colab-df-convert:hover {\n",
              "      background-color: #434B5C;\n",
              "      box-shadow: 0px 1px 3px 1px rgba(0, 0, 0, 0.15);\n",
              "      filter: drop-shadow(0px 1px 2px rgba(0, 0, 0, 0.3));\n",
              "      fill: #FFFFFF;\n",
              "    }\n",
              "  </style>\n",
              "\n",
              "      <script>\n",
              "        const buttonEl =\n",
              "          document.querySelector('#df-bf18bfad-3b6c-467c-bcb6-0537a8fa4215 button.colab-df-convert');\n",
              "        buttonEl.style.display =\n",
              "          google.colab.kernel.accessAllowed ? 'block' : 'none';\n",
              "\n",
              "        async function convertToInteractive(key) {\n",
              "          const element = document.querySelector('#df-bf18bfad-3b6c-467c-bcb6-0537a8fa4215');\n",
              "          const dataTable =\n",
              "            await google.colab.kernel.invokeFunction('convertToInteractive',\n",
              "                                                     [key], {});\n",
              "          if (!dataTable) return;\n",
              "\n",
              "          const docLinkHtml = 'Like what you see? Visit the ' +\n",
              "            '<a target=\"_blank\" href=https://colab.research.google.com/notebooks/data_table.ipynb>data table notebook</a>'\n",
              "            + ' to learn more about interactive tables.';\n",
              "          element.innerHTML = '';\n",
              "          dataTable['output_type'] = 'display_data';\n",
              "          await google.colab.output.renderOutput(dataTable, element);\n",
              "          const docLink = document.createElement('div');\n",
              "          docLink.innerHTML = docLinkHtml;\n",
              "          element.appendChild(docLink);\n",
              "        }\n",
              "      </script>\n",
              "    </div>\n",
              "  </div>\n",
              "  "
            ]
          },
          "metadata": {},
          "execution_count": 12
        }
      ]
    },
    {
      "cell_type": "code",
      "source": [
        "alt.Chart(data_new).mark_line(color='blue').encode(x='Date', y='Close' ).properties(height=400, width=1000 )"
      ],
      "metadata": {
        "colab": {
          "base_uri": "https://localhost:8080/",
          "height": 488
        },
        "id": "1I3HzYC5jM1u",
        "outputId": "0fe67e9f-93d6-4e0e-839b-891b00b582a3"
      },
      "execution_count": null,
      "outputs": [
        {
          "output_type": "execute_result",
          "data": {
            "text/html": [
              "\n",
              "<div id=\"altair-viz-775b84a011754ce7a4f4b816dc788043\"></div>\n",
              "<script type=\"text/javascript\">\n",
              "  var VEGA_DEBUG = (typeof VEGA_DEBUG == \"undefined\") ? {} : VEGA_DEBUG;\n",
              "  (function(spec, embedOpt){\n",
              "    let outputDiv = document.currentScript.previousElementSibling;\n",
              "    if (outputDiv.id !== \"altair-viz-775b84a011754ce7a4f4b816dc788043\") {\n",
              "      outputDiv = document.getElementById(\"altair-viz-775b84a011754ce7a4f4b816dc788043\");\n",
              "    }\n",
              "    const paths = {\n",
              "      \"vega\": \"https://cdn.jsdelivr.net/npm//vega@5?noext\",\n",
              "      \"vega-lib\": \"https://cdn.jsdelivr.net/npm//vega-lib?noext\",\n",
              "      \"vega-lite\": \"https://cdn.jsdelivr.net/npm//vega-lite@4.17.0?noext\",\n",
              "      \"vega-embed\": \"https://cdn.jsdelivr.net/npm//vega-embed@6?noext\",\n",
              "    };\n",
              "\n",
              "    function maybeLoadScript(lib, version) {\n",
              "      var key = `${lib.replace(\"-\", \"\")}_version`;\n",
              "      return (VEGA_DEBUG[key] == version) ?\n",
              "        Promise.resolve(paths[lib]) :\n",
              "        new Promise(function(resolve, reject) {\n",
              "          var s = document.createElement('script');\n",
              "          document.getElementsByTagName(\"head\")[0].appendChild(s);\n",
              "          s.async = true;\n",
              "          s.onload = () => {\n",
              "            VEGA_DEBUG[key] = version;\n",
              "            return resolve(paths[lib]);\n",
              "          };\n",
              "          s.onerror = () => reject(`Error loading script: ${paths[lib]}`);\n",
              "          s.src = paths[lib];\n",
              "        });\n",
              "    }\n",
              "\n",
              "    function showError(err) {\n",
              "      outputDiv.innerHTML = `<div class=\"error\" style=\"color:red;\">${err}</div>`;\n",
              "      throw err;\n",
              "    }\n",
              "\n",
              "    function displayChart(vegaEmbed) {\n",
              "      vegaEmbed(outputDiv, spec, embedOpt)\n",
              "        .catch(err => showError(`Javascript Error: ${err.message}<br>This usually means there's a typo in your chart specification. See the javascript console for the full traceback.`));\n",
              "    }\n",
              "\n",
              "    if(typeof define === \"function\" && define.amd) {\n",
              "      requirejs.config({paths});\n",
              "      require([\"vega-embed\"], displayChart, err => showError(`Error loading script: ${err.message}`));\n",
              "    } else {\n",
              "      maybeLoadScript(\"vega\", \"5\")\n",
              "        .then(() => maybeLoadScript(\"vega-lite\", \"4.17.0\"))\n",
              "        .then(() => maybeLoadScript(\"vega-embed\", \"6\"))\n",
              "        .catch(showError)\n",
              "        .then(() => displayChart(vegaEmbed));\n",
              "    }\n",
              "  })({\"config\": {\"view\": {\"continuousWidth\": 400, \"continuousHeight\": 300}}, \"data\": {\"name\": \"data-99ffc6d98b810a29ebf59201a46ea1d9\"}, \"mark\": {\"type\": \"line\", \"color\": \"blue\"}, \"encoding\": {\"x\": {\"field\": \"Date\", \"type\": \"temporal\"}, \"y\": {\"field\": \"Close\", \"type\": \"quantitative\"}}, \"height\": 400, \"width\": 1000, \"$schema\": \"https://vega.github.io/schema/vega-lite/v4.17.0.json\", \"datasets\": {\"data-99ffc6d98b810a29ebf59201a46ea1d9\": [{\"Date\": \"2015-01-01T00:00:00\", \"Prev Close\": 2558.25, \"Open\": 2567.0, \"High\": 2567.0, \"Low\": 2541.0, \"Close\": 2545.55, \"Volume\": 183415}, {\"Date\": \"2015-01-02T00:00:00\", \"Prev Close\": 2545.55, \"Open\": 2551.0, \"High\": 2590.95, \"Low\": 2550.6, \"Close\": 2579.45, \"Volume\": 462870}, {\"Date\": \"2015-01-05T00:00:00\", \"Prev Close\": 2579.45, \"Open\": 2581.0, \"High\": 2599.9, \"Low\": 2524.65, \"Close\": 2540.25, \"Volume\": 877121}, {\"Date\": \"2015-01-06T00:00:00\", \"Prev Close\": 2540.25, \"Open\": 2529.1, \"High\": 2529.1, \"Low\": 2440.0, \"Close\": 2446.6, \"Volume\": 1211892}, {\"Date\": \"2015-01-07T00:00:00\", \"Prev Close\": 2446.6, \"Open\": 2470.0, \"High\": 2479.15, \"Low\": 2407.45, \"Close\": 2417.7, \"Volume\": 1318166}, {\"Date\": \"2015-01-08T00:00:00\", \"Prev Close\": 2417.7, \"Open\": 2442.4, \"High\": 2449.0, \"Low\": 2420.55, \"Close\": 2443.8, \"Volume\": 782704}, {\"Date\": \"2015-01-09T00:00:00\", \"Prev Close\": 2443.8, \"Open\": 2455.0, \"High\": 2519.9, \"Low\": 2450.0, \"Close\": 2512.3, \"Volume\": 1598821}, {\"Date\": \"2015-01-12T00:00:00\", \"Prev Close\": 2512.3, \"Open\": 2517.0, \"High\": 2528.0, \"Low\": 2480.25, \"Close\": 2509.7, \"Volume\": 798003}, {\"Date\": \"2015-01-13T00:00:00\", \"Prev Close\": 2509.7, \"Open\": 2520.0, \"High\": 2530.4, \"Low\": 2480.1, \"Close\": 2497.9, \"Volume\": 734216}, {\"Date\": \"2015-01-14T00:00:00\", \"Prev Close\": 2497.9, \"Open\": 2516.0, \"High\": 2531.8, \"Low\": 2500.5, \"Close\": 2521.95, \"Volume\": 893548}, {\"Date\": \"2015-01-15T00:00:00\", \"Prev Close\": 2521.95, \"Open\": 2533.0, \"High\": 2581.75, \"Low\": 2523.25, \"Close\": 2539.1, \"Volume\": 2504960}, {\"Date\": \"2015-01-16T00:00:00\", \"Prev Close\": 2539.1, \"Open\": 2543.7, \"High\": 2545.0, \"Low\": 2484.3, \"Close\": 2532.15, \"Volume\": 2646915}, {\"Date\": \"2015-01-19T00:00:00\", \"Prev Close\": 2532.15, \"Open\": 2536.0, \"High\": 2551.0, \"Low\": 2503.0, \"Close\": 2511.0, \"Volume\": 567537}, {\"Date\": \"2015-01-20T00:00:00\", \"Prev Close\": 2511.0, \"Open\": 2520.0, \"High\": 2530.0, \"Low\": 2483.25, \"Close\": 2500.45, \"Volume\": 1029283}, {\"Date\": \"2015-01-21T00:00:00\", \"Prev Close\": 2500.45, \"Open\": 2522.0, \"High\": 2522.0, \"Low\": 2488.25, \"Close\": 2513.8, \"Volume\": 1155240}, {\"Date\": \"2015-01-22T00:00:00\", \"Prev Close\": 2513.8, \"Open\": 2516.5, \"High\": 2521.25, \"Low\": 2495.5, \"Close\": 2513.55, \"Volume\": 1056607}, {\"Date\": \"2015-01-23T00:00:00\", \"Prev Close\": 2513.55, \"Open\": 2514.0, \"High\": 2532.05, \"Low\": 2496.1, \"Close\": 2503.6, \"Volume\": 1575190}, {\"Date\": \"2015-01-27T00:00:00\", \"Prev Close\": 2503.6, \"Open\": 2512.35, \"High\": 2515.0, \"Low\": 2489.55, \"Close\": 2502.05, \"Volume\": 1369368}, {\"Date\": \"2015-01-28T00:00:00\", \"Prev Close\": 2502.05, \"Open\": 2503.0, \"High\": 2544.9, \"Low\": 2502.9, \"Close\": 2539.6, \"Volume\": 1560990}, {\"Date\": \"2015-01-29T00:00:00\", \"Prev Close\": 2539.6, \"Open\": 2538.0, \"High\": 2568.7, \"Low\": 2512.9, \"Close\": 2544.65, \"Volume\": 1867196}, {\"Date\": \"2015-01-30T00:00:00\", \"Prev Close\": 2544.65, \"Open\": 2560.7, \"High\": 2575.0, \"Low\": 2470.0, \"Close\": 2482.05, \"Volume\": 2908701}, {\"Date\": \"2015-02-02T00:00:00\", \"Prev Close\": 2482.05, \"Open\": 2482.0, \"High\": 2521.45, \"Low\": 2462.05, \"Close\": 2514.2, \"Volume\": 1590901}, {\"Date\": \"2015-02-03T00:00:00\", \"Prev Close\": 2514.2, \"Open\": 2511.65, \"High\": 2565.0, \"Low\": 2507.1, \"Close\": 2558.25, \"Volume\": 1172527}, {\"Date\": \"2015-02-04T00:00:00\", \"Prev Close\": 2558.25, \"Open\": 2568.0, \"High\": 2571.7, \"Low\": 2502.1, \"Close\": 2514.3, \"Volume\": 1122709}, {\"Date\": \"2015-02-05T00:00:00\", \"Prev Close\": 2514.3, \"Open\": 2520.0, \"High\": 2591.7, \"Low\": 2519.0, \"Close\": 2552.4, \"Volume\": 2265084}, {\"Date\": \"2015-02-06T00:00:00\", \"Prev Close\": 2552.4, \"Open\": 2553.0, \"High\": 2594.8, \"Low\": 2550.85, \"Close\": 2575.75, \"Volume\": 1068208}, {\"Date\": \"2015-02-09T00:00:00\", \"Prev Close\": 2575.75, \"Open\": 2561.5, \"High\": 2569.1, \"Low\": 2500.0, \"Close\": 2512.9, \"Volume\": 1038216}, {\"Date\": \"2015-02-10T00:00:00\", \"Prev Close\": 2512.9, \"Open\": 2510.0, \"High\": 2526.25, \"Low\": 2433.0, \"Close\": 2441.15, \"Volume\": 1899527}, {\"Date\": \"2015-02-11T00:00:00\", \"Prev Close\": 2441.15, \"Open\": 2455.05, \"High\": 2487.25, \"Low\": 2447.25, \"Close\": 2459.9, \"Volume\": 1468761}, {\"Date\": \"2015-02-12T00:00:00\", \"Prev Close\": 2459.9, \"Open\": 2479.8, \"High\": 2479.8, \"Low\": 2447.0, \"Close\": 2462.15, \"Volume\": 1553990}, {\"Date\": \"2015-02-13T00:00:00\", \"Prev Close\": 2462.15, \"Open\": 2470.0, \"High\": 2547.75, \"Low\": 2460.25, \"Close\": 2538.75, \"Volume\": 2079163}, {\"Date\": \"2015-02-16T00:00:00\", \"Prev Close\": 2538.75, \"Open\": 2560.0, \"High\": 2595.0, \"Low\": 2555.0, \"Close\": 2584.8, \"Volume\": 1182196}, {\"Date\": \"2015-02-18T00:00:00\", \"Prev Close\": 2584.8, \"Open\": 2585.05, \"High\": 2643.0, \"Low\": 2565.25, \"Close\": 2635.65, \"Volume\": 1330007}, {\"Date\": \"2015-02-19T00:00:00\", \"Prev Close\": 2635.65, \"Open\": 2636.0, \"High\": 2687.3, \"Low\": 2635.0, \"Close\": 2681.05, \"Volume\": 1309001}, {\"Date\": \"2015-02-20T00:00:00\", \"Prev Close\": 2681.05, \"Open\": 2698.8, \"High\": 2698.8, \"Low\": 2642.25, \"Close\": 2675.55, \"Volume\": 900794}, {\"Date\": \"2015-02-23T00:00:00\", \"Prev Close\": 2675.55, \"Open\": 2671.0, \"High\": 2722.0, \"Low\": 2671.0, \"Close\": 2696.65, \"Volume\": 807446}, {\"Date\": \"2015-02-24T00:00:00\", \"Prev Close\": 2696.65, \"Open\": 2694.0, \"High\": 2730.0, \"Low\": 2679.0, \"Close\": 2704.75, \"Volume\": 1099961}, {\"Date\": \"2015-02-25T00:00:00\", \"Prev Close\": 2704.75, \"Open\": 2710.0, \"High\": 2722.0, \"Low\": 2667.85, \"Close\": 2672.2, \"Volume\": 883997}, {\"Date\": \"2015-02-26T00:00:00\", \"Prev Close\": 2672.2, \"Open\": 2679.0, \"High\": 2692.75, \"Low\": 2625.35, \"Close\": 2656.45, \"Volume\": 995997}, {\"Date\": \"2015-02-27T00:00:00\", \"Prev Close\": 2656.45, \"Open\": 2659.45, \"High\": 2675.75, \"Low\": 2616.3, \"Close\": 2662.35, \"Volume\": 1438688}, {\"Date\": \"2015-02-28T00:00:00\", \"Prev Close\": 2662.35, \"Open\": 2677.0, \"High\": 2687.1, \"Low\": 2643.0, \"Close\": 2675.25, \"Volume\": 589498}, {\"Date\": \"2015-03-02T00:00:00\", \"Prev Close\": 2675.25, \"Open\": 2679.7, \"High\": 2708.95, \"Low\": 2652.55, \"Close\": 2669.4, \"Volume\": 1088019}, {\"Date\": \"2015-03-03T00:00:00\", \"Prev Close\": 2669.4, \"Open\": 2682.0, \"High\": 2790.0, \"Low\": 2676.15, \"Close\": 2776.0, \"Volume\": 1712154}, {\"Date\": \"2015-03-04T00:00:00\", \"Prev Close\": 2776.0, \"Open\": 2788.0, \"High\": 2812.1, \"Low\": 2715.65, \"Close\": 2746.0, \"Volume\": 1931497}, {\"Date\": \"2015-03-05T00:00:00\", \"Prev Close\": 2746.0, \"Open\": 2750.0, \"High\": 2770.7, \"Low\": 2681.05, \"Close\": 2696.45, \"Volume\": 1086757}, {\"Date\": \"2015-03-09T00:00:00\", \"Prev Close\": 2696.45, \"Open\": 2640.0, \"High\": 2679.8, \"Low\": 2610.0, \"Close\": 2646.8, \"Volume\": 1441587}, {\"Date\": \"2015-03-10T00:00:00\", \"Prev Close\": 2646.8, \"Open\": 2648.9, \"High\": 2678.25, \"Low\": 2595.25, \"Close\": 2642.7, \"Volume\": 1518526}, {\"Date\": \"2015-03-11T00:00:00\", \"Prev Close\": 2642.7, \"Open\": 2642.0, \"High\": 2659.95, \"Low\": 2597.8, \"Close\": 2606.55, \"Volume\": 1120100}, {\"Date\": \"2015-03-12T00:00:00\", \"Prev Close\": 2606.55, \"Open\": 2623.9, \"High\": 2624.9, \"Low\": 2590.1, \"Close\": 2619.05, \"Volume\": 913818}, {\"Date\": \"2015-03-13T00:00:00\", \"Prev Close\": 2619.05, \"Open\": 2638.0, \"High\": 2639.95, \"Low\": 2575.0, \"Close\": 2582.35, \"Volume\": 793419}, {\"Date\": \"2015-03-16T00:00:00\", \"Prev Close\": 2582.35, \"Open\": 2585.2, \"High\": 2610.0, \"Low\": 2552.0, \"Close\": 2562.3, \"Volume\": 778148}, {\"Date\": \"2015-03-17T00:00:00\", \"Prev Close\": 2562.3, \"Open\": 2582.5, \"High\": 2606.7, \"Low\": 2557.75, \"Close\": 2583.7, \"Volume\": 633659}, {\"Date\": \"2015-03-18T00:00:00\", \"Prev Close\": 2583.7, \"Open\": 2590.95, \"High\": 2599.45, \"Low\": 2551.7, \"Close\": 2559.35, \"Volume\": 627585}, {\"Date\": \"2015-03-19T00:00:00\", \"Prev Close\": 2559.35, \"Open\": 2576.0, \"High\": 2605.85, \"Low\": 2568.1, \"Close\": 2596.25, \"Volume\": 1224482}, {\"Date\": \"2015-03-20T00:00:00\", \"Prev Close\": 2596.25, \"Open\": 2596.0, \"High\": 2618.0, \"Low\": 2578.85, \"Close\": 2610.95, \"Volume\": 981954}, {\"Date\": \"2015-03-23T00:00:00\", \"Prev Close\": 2610.95, \"Open\": 2616.0, \"High\": 2631.0, \"Low\": 2606.0, \"Close\": 2617.15, \"Volume\": 783304}, {\"Date\": \"2015-03-24T00:00:00\", \"Prev Close\": 2617.15, \"Open\": 2630.0, \"High\": 2637.0, \"Low\": 2582.1, \"Close\": 2591.3, \"Volume\": 1197439}, {\"Date\": \"2015-03-25T00:00:00\", \"Prev Close\": 2591.3, \"Open\": 2591.4, \"High\": 2614.0, \"Low\": 2545.2, \"Close\": 2573.75, \"Volume\": 1112429}, {\"Date\": \"2015-03-26T00:00:00\", \"Prev Close\": 2573.75, \"Open\": 2553.3, \"High\": 2586.7, \"Low\": 2501.0, \"Close\": 2513.1, \"Volume\": 1545821}, {\"Date\": \"2015-03-27T00:00:00\", \"Prev Close\": 2513.1, \"Open\": 2531.0, \"High\": 2571.9, \"Low\": 2504.1, \"Close\": 2514.8, \"Volume\": 1375888}, {\"Date\": \"2015-03-30T00:00:00\", \"Prev Close\": 2514.8, \"Open\": 2525.0, \"High\": 2569.9, \"Low\": 2520.0, \"Close\": 2564.15, \"Volume\": 669503}, {\"Date\": \"2015-03-31T00:00:00\", \"Prev Close\": 2564.15, \"Open\": 2569.45, \"High\": 2569.45, \"Low\": 2521.0, \"Close\": 2553.95, \"Volume\": 1213514}, {\"Date\": \"2015-04-01T00:00:00\", \"Prev Close\": 2553.95, \"Open\": 2558.0, \"High\": 2563.6, \"Low\": 2522.25, \"Close\": 2542.65, \"Volume\": 1037879}, {\"Date\": \"2015-04-06T00:00:00\", \"Prev Close\": 2542.65, \"Open\": 2558.0, \"High\": 2562.9, \"Low\": 2500.1, \"Close\": 2547.3, \"Volume\": 784271}, {\"Date\": \"2015-04-07T00:00:00\", \"Prev Close\": 2547.3, \"Open\": 2562.45, \"High\": 2599.0, \"Low\": 2544.0, \"Close\": 2585.0, \"Volume\": 943461}, {\"Date\": \"2015-04-08T00:00:00\", \"Prev Close\": 2585.0, \"Open\": 2594.0, \"High\": 2656.5, \"Low\": 2590.85, \"Close\": 2641.4, \"Volume\": 826067}, {\"Date\": \"2015-04-09T00:00:00\", \"Prev Close\": 2641.4, \"Open\": 2659.0, \"High\": 2687.45, \"Low\": 2635.15, \"Close\": 2664.55, \"Volume\": 1272225}, {\"Date\": \"2015-04-10T00:00:00\", \"Prev Close\": 2664.55, \"Open\": 2648.5, \"High\": 2670.8, \"Low\": 2628.0, \"Close\": 2653.75, \"Volume\": 907772}, {\"Date\": \"2015-04-13T00:00:00\", \"Prev Close\": 2653.75, \"Open\": 2664.0, \"High\": 2665.0, \"Low\": 2628.0, \"Close\": 2655.5, \"Volume\": 654321}, {\"Date\": \"2015-04-15T00:00:00\", \"Prev Close\": 2655.5, \"Open\": 2654.7, \"High\": 2713.9, \"Low\": 2609.4, \"Close\": 2627.75, \"Volume\": 1456967}, {\"Date\": \"2015-04-16T00:00:00\", \"Prev Close\": 2627.75, \"Open\": 2626.95, \"High\": 2627.0, \"Low\": 2571.35, \"Close\": 2582.8, \"Volume\": 1608785}, {\"Date\": \"2015-04-17T00:00:00\", \"Prev Close\": 2582.8, \"Open\": 2557.1, \"High\": 2560.0, \"Low\": 2470.0, \"Close\": 2474.85, \"Volume\": 4834371}, {\"Date\": \"2015-04-20T00:00:00\", \"Prev Close\": 2474.85, \"Open\": 2480.05, \"High\": 2483.9, \"Low\": 2424.85, \"Close\": 2428.8, \"Volume\": 1445361}, {\"Date\": \"2015-04-21T00:00:00\", \"Prev Close\": 2428.8, \"Open\": 2428.8, \"High\": 2452.0, \"Low\": 2401.0, \"Close\": 2427.05, \"Volume\": 1273016}, {\"Date\": \"2015-04-22T00:00:00\", \"Prev Close\": 2427.05, \"Open\": 2431.5, \"High\": 2473.0, \"Low\": 2407.55, \"Close\": 2445.1, \"Volume\": 2093406}, {\"Date\": \"2015-04-23T00:00:00\", \"Prev Close\": 2445.1, \"Open\": 2472.0, \"High\": 2479.8, \"Low\": 2431.7, \"Close\": 2457.25, \"Volume\": 2171495}, {\"Date\": \"2015-04-24T00:00:00\", \"Prev Close\": 2457.25, \"Open\": 2455.3, \"High\": 2514.0, \"Low\": 2447.55, \"Close\": 2493.05, \"Volume\": 1812579}, {\"Date\": \"2015-04-27T00:00:00\", \"Prev Close\": 2493.05, \"Open\": 2499.5, \"High\": 2520.0, \"Low\": 2486.0, \"Close\": 2500.2, \"Volume\": 1366526}, {\"Date\": \"2015-04-28T00:00:00\", \"Prev Close\": 2500.2, \"Open\": 2510.0, \"High\": 2510.0, \"Low\": 2455.1, \"Close\": 2495.0, \"Volume\": 1544149}, {\"Date\": \"2015-04-29T00:00:00\", \"Prev Close\": 2495.0, \"Open\": 2484.0, \"High\": 2495.0, \"Low\": 2451.05, \"Close\": 2487.3, \"Volume\": 1009810}, {\"Date\": \"2015-04-30T00:00:00\", \"Prev Close\": 2487.3, \"Open\": 2480.0, \"High\": 2490.0, \"Low\": 2427.1, \"Close\": 2463.7, \"Volume\": 1869027}, {\"Date\": \"2015-05-04T00:00:00\", \"Prev Close\": 2463.7, \"Open\": 2491.0, \"High\": 2504.8, \"Low\": 2457.2, \"Close\": 2481.55, \"Volume\": 945315}, {\"Date\": \"2015-05-05T00:00:00\", \"Prev Close\": 2481.55, \"Open\": 2501.0, \"High\": 2536.45, \"Low\": 2500.0, \"Close\": 2517.85, \"Volume\": 1627535}, {\"Date\": \"2015-05-06T00:00:00\", \"Prev Close\": 2517.85, \"Open\": 2515.0, \"High\": 2515.0, \"Low\": 2455.8, \"Close\": 2463.05, \"Volume\": 1697203}, {\"Date\": \"2015-05-07T00:00:00\", \"Prev Close\": 2463.05, \"Open\": 2464.9, \"High\": 2553.75, \"Low\": 2453.7, \"Close\": 2545.25, \"Volume\": 1602514}, {\"Date\": \"2015-05-08T00:00:00\", \"Prev Close\": 2545.25, \"Open\": 2560.0, \"High\": 2588.0, \"Low\": 2516.3, \"Close\": 2527.25, \"Volume\": 1501832}, {\"Date\": \"2015-05-11T00:00:00\", \"Prev Close\": 2527.25, \"Open\": 2535.0, \"High\": 2563.05, \"Low\": 2525.0, \"Close\": 2556.0, \"Volume\": 1286541}, {\"Date\": \"2015-05-12T00:00:00\", \"Prev Close\": 2556.0, \"Open\": 2560.0, \"High\": 2565.0, \"Low\": 2513.0, \"Close\": 2522.9, \"Volume\": 1233693}, {\"Date\": \"2015-05-13T00:00:00\", \"Prev Close\": 2522.9, \"Open\": 2547.0, \"High\": 2547.0, \"Low\": 2480.45, \"Close\": 2515.4, \"Volume\": 931887}, {\"Date\": \"2015-05-14T00:00:00\", \"Prev Close\": 2515.4, \"Open\": 2520.0, \"High\": 2520.0, \"Low\": 2485.0, \"Close\": 2499.25, \"Volume\": 654525}, {\"Date\": \"2015-05-15T00:00:00\", \"Prev Close\": 2499.25, \"Open\": 2515.0, \"High\": 2532.4, \"Low\": 2501.0, \"Close\": 2511.15, \"Volume\": 730727}, {\"Date\": \"2015-05-18T00:00:00\", \"Prev Close\": 2511.15, \"Open\": 2514.1, \"High\": 2525.25, \"Low\": 2497.1, \"Close\": 2520.4, \"Volume\": 2253876}, {\"Date\": \"2015-05-19T00:00:00\", \"Prev Close\": 2520.4, \"Open\": 2519.4, \"High\": 2530.0, \"Low\": 2496.75, \"Close\": 2512.7, \"Volume\": 978861}, {\"Date\": \"2015-05-20T00:00:00\", \"Prev Close\": 2512.7, \"Open\": 2520.0, \"High\": 2569.9, \"Low\": 2516.9, \"Close\": 2557.05, \"Volume\": 948907}, {\"Date\": \"2015-05-21T00:00:00\", \"Prev Close\": 2557.05, \"Open\": 2557.0, \"High\": 2580.0, \"Low\": 2548.15, \"Close\": 2555.5, \"Volume\": 789789}, {\"Date\": \"2015-05-22T00:00:00\", \"Prev Close\": 2555.5, \"Open\": 2550.0, \"High\": 2628.75, \"Low\": 2539.25, \"Close\": 2617.9, \"Volume\": 1345816}, {\"Date\": \"2015-05-25T00:00:00\", \"Prev Close\": 2617.9, \"Open\": 2620.0, \"High\": 2636.9, \"Low\": 2585.7, \"Close\": 2601.0, \"Volume\": 491489}, {\"Date\": \"2015-05-26T00:00:00\", \"Prev Close\": 2601.0, \"Open\": 2605.0, \"High\": 2623.25, \"Low\": 2588.9, \"Close\": 2608.85, \"Volume\": 980870}, {\"Date\": \"2015-05-27T00:00:00\", \"Prev Close\": 2608.85, \"Open\": 2608.0, \"High\": 2633.15, \"Low\": 2592.0, \"Close\": 2615.25, \"Volume\": 810345}, {\"Date\": \"2015-05-28T00:00:00\", \"Prev Close\": 2615.25, \"Open\": 2603.9, \"High\": 2623.0, \"Low\": 2582.25, \"Close\": 2609.5, \"Volume\": 1381804}, {\"Date\": \"2015-05-29T00:00:00\", \"Prev Close\": 2609.5, \"Open\": 2617.0, \"High\": 2648.6, \"Low\": 2597.25, \"Close\": 2610.3, \"Volume\": 2211766}, {\"Date\": \"2015-06-01T00:00:00\", \"Prev Close\": 2610.3, \"Open\": 2609.45, \"High\": 2647.1, \"Low\": 2608.35, \"Close\": 2617.75, \"Volume\": 441132}, {\"Date\": \"2015-06-02T00:00:00\", \"Prev Close\": 2617.75, \"Open\": 2616.0, \"High\": 2630.0, \"Low\": 2590.5, \"Close\": 2599.9, \"Volume\": 1967910}, {\"Date\": \"2015-06-03T00:00:00\", \"Prev Close\": 2599.9, \"Open\": 2604.0, \"High\": 2625.6, \"Low\": 2590.5, \"Close\": 2610.9, \"Volume\": 902342}, {\"Date\": \"2015-06-04T00:00:00\", \"Prev Close\": 2610.9, \"Open\": 2617.1, \"High\": 2622.8, \"Low\": 2588.5, \"Close\": 2605.65, \"Volume\": 2065734}, {\"Date\": \"2015-06-05T00:00:00\", \"Prev Close\": 2605.65, \"Open\": 2592.0, \"High\": 2609.0, \"Low\": 2570.0, \"Close\": 2575.85, \"Volume\": 1154267}, {\"Date\": \"2015-06-08T00:00:00\", \"Prev Close\": 2575.85, \"Open\": 2590.0, \"High\": 2590.0, \"Low\": 2561.65, \"Close\": 2577.45, \"Volume\": 785160}, {\"Date\": \"2015-06-09T00:00:00\", \"Prev Close\": 2577.45, \"Open\": 2585.0, \"High\": 2590.0, \"Low\": 2551.0, \"Close\": 2561.65, \"Volume\": 1289457}, {\"Date\": \"2015-06-10T00:00:00\", \"Prev Close\": 2561.65, \"Open\": 2566.0, \"High\": 2610.0, \"Low\": 2563.8, \"Close\": 2600.75, \"Volume\": 1381675}, {\"Date\": \"2015-06-11T00:00:00\", \"Prev Close\": 2600.75, \"Open\": 2605.5, \"High\": 2613.0, \"Low\": 2556.75, \"Close\": 2571.3, \"Volume\": 923668}, {\"Date\": \"2015-06-12T00:00:00\", \"Prev Close\": 2571.3, \"Open\": 2571.9, \"High\": 2588.95, \"Low\": 2476.8, \"Close\": 2505.8, \"Volume\": 1285728}, {\"Date\": \"2015-06-15T00:00:00\", \"Prev Close\": 2505.8, \"Open\": 2505.3, \"High\": 2520.45, \"Low\": 2481.0, \"Close\": 2504.8, \"Volume\": 1262588}, {\"Date\": \"2015-06-16T00:00:00\", \"Prev Close\": 2504.8, \"Open\": 2500.0, \"High\": 2519.3, \"Low\": 2494.45, \"Close\": 2512.0, \"Volume\": 633698}, {\"Date\": \"2015-06-17T00:00:00\", \"Prev Close\": 2512.0, \"Open\": 2521.0, \"High\": 2529.15, \"Low\": 2501.8, \"Close\": 2513.8, \"Volume\": 987860}, {\"Date\": \"2015-06-18T00:00:00\", \"Prev Close\": 2513.8, \"Open\": 2515.0, \"High\": 2546.3, \"Low\": 2508.0, \"Close\": 2530.05, \"Volume\": 1082523}, {\"Date\": \"2015-06-19T00:00:00\", \"Prev Close\": 2530.05, \"Open\": 2535.0, \"High\": 2555.0, \"Low\": 2527.1, \"Close\": 2549.55, \"Volume\": 999805}, {\"Date\": \"2015-06-22T00:00:00\", \"Prev Close\": 2549.55, \"Open\": 2547.0, \"High\": 2600.0, \"Low\": 2547.0, \"Close\": 2591.5, \"Volume\": 551001}, {\"Date\": \"2015-06-23T00:00:00\", \"Prev Close\": 2591.5, \"Open\": 2600.0, \"High\": 2608.0, \"Low\": 2567.2, \"Close\": 2574.6, \"Volume\": 449159}, {\"Date\": \"2015-06-24T00:00:00\", \"Prev Close\": 2574.6, \"Open\": 2580.0, \"High\": 2587.9, \"Low\": 2558.85, \"Close\": 2570.3, \"Volume\": 585123}, {\"Date\": \"2015-06-25T00:00:00\", \"Prev Close\": 2570.3, \"Open\": 2562.0, \"High\": 2573.0, \"Low\": 2544.15, \"Close\": 2550.0, \"Volume\": 965496}, {\"Date\": \"2015-06-26T00:00:00\", \"Prev Close\": 2550.0, \"Open\": 2550.2, \"High\": 2596.35, \"Low\": 2550.2, \"Close\": 2592.8, \"Volume\": 645051}, {\"Date\": \"2015-06-29T00:00:00\", \"Prev Close\": 2592.8, \"Open\": 2572.0, \"High\": 2604.0, \"Low\": 2543.4, \"Close\": 2592.9, \"Volume\": 686378}, {\"Date\": \"2015-06-30T00:00:00\", \"Prev Close\": 2592.9, \"Open\": 2585.0, \"High\": 2588.75, \"Low\": 2540.0, \"Close\": 2550.95, \"Volume\": 774976}, {\"Date\": \"2015-07-01T00:00:00\", \"Prev Close\": 2550.95, \"Open\": 2563.9, \"High\": 2608.0, \"Low\": 2556.75, \"Close\": 2593.1, \"Volume\": 639854}, {\"Date\": \"2015-07-02T00:00:00\", \"Prev Close\": 2593.1, \"Open\": 2600.0, \"High\": 2602.95, \"Low\": 2571.05, \"Close\": 2577.75, \"Volume\": 722940}, {\"Date\": \"2015-07-03T00:00:00\", \"Prev Close\": 2577.75, \"Open\": 2573.05, \"High\": 2610.0, \"Low\": 2570.0, \"Close\": 2603.9, \"Volume\": 481735}, {\"Date\": \"2015-07-06T00:00:00\", \"Prev Close\": 2603.9, \"Open\": 2580.3, \"High\": 2645.0, \"Low\": 2580.3, \"Close\": 2633.3, \"Volume\": 591169}, {\"Date\": \"2015-07-07T00:00:00\", \"Prev Close\": 2633.3, \"Open\": 2632.75, \"High\": 2646.9, \"Low\": 2603.0, \"Close\": 2616.25, \"Volume\": 821418}, {\"Date\": \"2015-07-08T00:00:00\", \"Prev Close\": 2616.25, \"Open\": 2597.95, \"High\": 2621.7, \"Low\": 2580.5, \"Close\": 2595.1, \"Volume\": 1333925}, {\"Date\": \"2015-07-09T00:00:00\", \"Prev Close\": 2595.1, \"Open\": 2595.0, \"High\": 2598.25, \"Low\": 2506.65, \"Close\": 2522.5, \"Volume\": 1967061}, {\"Date\": \"2015-07-10T00:00:00\", \"Prev Close\": 2522.5, \"Open\": 2559.0, \"High\": 2559.0, \"Low\": 2455.0, \"Close\": 2474.35, \"Volume\": 4131827}, {\"Date\": \"2015-07-13T00:00:00\", \"Prev Close\": 2474.35, \"Open\": 2475.4, \"High\": 2518.6, \"Low\": 2475.4, \"Close\": 2509.55, \"Volume\": 1140154}, {\"Date\": \"2015-07-14T00:00:00\", \"Prev Close\": 2509.55, \"Open\": 2511.0, \"High\": 2515.0, \"Low\": 2490.0, \"Close\": 2499.5, \"Volume\": 851637}, {\"Date\": \"2015-07-15T00:00:00\", \"Prev Close\": 2499.5, \"Open\": 2501.0, \"High\": 2549.95, \"Low\": 2500.0, \"Close\": 2545.75, \"Volume\": 1001830}, {\"Date\": \"2015-07-16T00:00:00\", \"Prev Close\": 2545.75, \"Open\": 2543.7, \"High\": 2558.85, \"Low\": 2526.6, \"Close\": 2540.2, \"Volume\": 728304}, {\"Date\": \"2015-07-17T00:00:00\", \"Prev Close\": 2540.2, \"Open\": 2546.8, \"High\": 2570.1, \"Low\": 2543.3, \"Close\": 2564.4, \"Volume\": 535263}, {\"Date\": \"2015-07-20T00:00:00\", \"Prev Close\": 2564.4, \"Open\": 2564.0, \"High\": 2583.9, \"Low\": 2551.9, \"Close\": 2579.15, \"Volume\": 426893}, {\"Date\": \"2015-07-21T00:00:00\", \"Prev Close\": 2579.15, \"Open\": 2576.0, \"High\": 2600.35, \"Low\": 2555.1, \"Close\": 2561.4, \"Volume\": 637250}, {\"Date\": \"2015-07-22T00:00:00\", \"Prev Close\": 2561.4, \"Open\": 2561.0, \"High\": 2569.0, \"Low\": 2521.05, \"Close\": 2528.05, \"Volume\": 660314}, {\"Date\": \"2015-07-23T00:00:00\", \"Prev Close\": 2528.05, \"Open\": 2517.5, \"High\": 2537.85, \"Low\": 2483.0, \"Close\": 2488.6, \"Volume\": 748390}, {\"Date\": \"2015-07-24T00:00:00\", \"Prev Close\": 2488.6, \"Open\": 2497.5, \"High\": 2516.5, \"Low\": 2492.1, \"Close\": 2505.15, \"Volume\": 787486}, {\"Date\": \"2015-07-27T00:00:00\", \"Prev Close\": 2505.15, \"Open\": 2488.0, \"High\": 2505.0, \"Low\": 2481.15, \"Close\": 2497.05, \"Volume\": 1001869}, {\"Date\": \"2015-07-28T00:00:00\", \"Prev Close\": 2497.05, \"Open\": 2499.5, \"High\": 2519.0, \"Low\": 2492.15, \"Close\": 2502.05, \"Volume\": 945594}, {\"Date\": \"2015-07-29T00:00:00\", \"Prev Close\": 2502.05, \"Open\": 2511.0, \"High\": 2515.05, \"Low\": 2483.5, \"Close\": 2506.75, \"Volume\": 1206659}, {\"Date\": \"2015-07-30T00:00:00\", \"Prev Close\": 2506.75, \"Open\": 2516.05, \"High\": 2516.8, \"Low\": 2472.8, \"Close\": 2480.65, \"Volume\": 1385287}, {\"Date\": \"2015-07-31T00:00:00\", \"Prev Close\": 2480.65, \"Open\": 2489.9, \"High\": 2519.0, \"Low\": 2487.0, \"Close\": 2510.75, \"Volume\": 981888}, {\"Date\": \"2015-08-03T00:00:00\", \"Prev Close\": 2510.75, \"Open\": 2503.4, \"High\": 2525.0, \"Low\": 2500.9, \"Close\": 2509.6, \"Volume\": 589662}, {\"Date\": \"2015-08-04T00:00:00\", \"Prev Close\": 2509.6, \"Open\": 2510.4, \"High\": 2523.0, \"Low\": 2486.0, \"Close\": 2508.9, \"Volume\": 1171346}, {\"Date\": \"2015-08-05T00:00:00\", \"Prev Close\": 2508.9, \"Open\": 2520.0, \"High\": 2550.0, \"Low\": 2511.0, \"Close\": 2547.15, \"Volume\": 494497}, {\"Date\": \"2015-08-06T00:00:00\", \"Prev Close\": 2547.15, \"Open\": 2565.0, \"High\": 2583.0, \"Low\": 2550.1, \"Close\": 2573.3, \"Volume\": 1105683}, {\"Date\": \"2015-08-07T00:00:00\", \"Prev Close\": 2573.3, \"Open\": 2573.0, \"High\": 2573.0, \"Low\": 2547.0, \"Close\": 2552.05, \"Volume\": 594253}, {\"Date\": \"2015-08-10T00:00:00\", \"Prev Close\": 2552.05, \"Open\": 2572.0, \"High\": 2589.0, \"Low\": 2556.6, \"Close\": 2572.1, \"Volume\": 715591}, {\"Date\": \"2015-08-11T00:00:00\", \"Prev Close\": 2572.1, \"Open\": 2578.0, \"High\": 2610.0, \"Low\": 2542.1, \"Close\": 2604.2, \"Volume\": 1100153}, {\"Date\": \"2015-08-12T00:00:00\", \"Prev Close\": 2604.2, \"Open\": 2603.1, \"High\": 2691.4, \"Low\": 2602.0, \"Close\": 2671.7, \"Volume\": 1739892}, {\"Date\": \"2015-08-13T00:00:00\", \"Prev Close\": 2671.7, \"Open\": 2670.0, \"High\": 2684.0, \"Low\": 2556.0, \"Close\": 2635.6, \"Volume\": 703213}, {\"Date\": \"2015-08-14T00:00:00\", \"Prev Close\": 2635.6, \"Open\": 2638.0, \"High\": 2719.35, \"Low\": 2637.1, \"Close\": 2703.2, \"Volume\": 1146982}, {\"Date\": \"2015-08-17T00:00:00\", \"Prev Close\": 2703.2, \"Open\": 2690.1, \"High\": 2696.8, \"Low\": 2655.0, \"Close\": 2684.75, \"Volume\": 386822}, {\"Date\": \"2015-08-18T00:00:00\", \"Prev Close\": 2684.75, \"Open\": 2706.9, \"High\": 2749.9, \"Low\": 2690.0, \"Close\": 2740.9, \"Volume\": 958463}, {\"Date\": \"2015-08-19T00:00:00\", \"Prev Close\": 2740.9, \"Open\": 2750.0, \"High\": 2752.85, \"Low\": 2721.9, \"Close\": 2733.6, \"Volume\": 845035}, {\"Date\": \"2015-08-20T00:00:00\", \"Prev Close\": 2733.6, \"Open\": 2745.0, \"High\": 2745.0, \"Low\": 2672.0, \"Close\": 2686.85, \"Volume\": 1174649}, {\"Date\": \"2015-08-21T00:00:00\", \"Prev Close\": 2686.85, \"Open\": 2712.0, \"High\": 2729.9, \"Low\": 2655.1, \"Close\": 2676.15, \"Volume\": 1768040}, {\"Date\": \"2015-08-24T00:00:00\", \"Prev Close\": 2676.15, \"Open\": 2639.0, \"High\": 2645.0, \"Low\": 2569.1, \"Close\": 2578.65, \"Volume\": 2346172}, {\"Date\": \"2015-08-25T00:00:00\", \"Prev Close\": 2578.65, \"Open\": 2587.9, \"High\": 2622.0, \"Low\": 2535.5, \"Close\": 2567.15, \"Volume\": 1962900}, {\"Date\": \"2015-08-26T00:00:00\", \"Prev Close\": 2567.15, \"Open\": 2558.05, \"High\": 2639.0, \"Low\": 2511.95, \"Close\": 2576.75, \"Volume\": 1608079}, {\"Date\": \"2015-08-27T00:00:00\", \"Prev Close\": 2576.75, \"Open\": 2614.9, \"High\": 2614.9, \"Low\": 2545.8, \"Close\": 2574.65, \"Volume\": 2632399}, {\"Date\": \"2015-08-28T00:00:00\", \"Prev Close\": 2574.65, \"Open\": 2609.0, \"High\": 2609.0, \"Low\": 2557.7, \"Close\": 2570.85, \"Volume\": 1372076}, {\"Date\": \"2015-08-31T00:00:00\", \"Prev Close\": 2570.85, \"Open\": 2590.0, \"High\": 2590.0, \"Low\": 2531.05, \"Close\": 2564.05, \"Volume\": 1846022}, {\"Date\": \"2015-09-01T00:00:00\", \"Prev Close\": 2564.05, \"Open\": 2556.0, \"High\": 2611.2, \"Low\": 2530.0, \"Close\": 2537.4, \"Volume\": 1493801}, {\"Date\": \"2015-09-02T00:00:00\", \"Prev Close\": 2537.4, \"Open\": 2559.7, \"High\": 2620.45, \"Low\": 2548.0, \"Close\": 2591.8, \"Volume\": 1882975}, {\"Date\": \"2015-09-03T00:00:00\", \"Prev Close\": 2591.8, \"Open\": 2596.1, \"High\": 2615.0, \"Low\": 2576.25, \"Close\": 2605.6, \"Volume\": 1132537}, {\"Date\": \"2015-09-04T00:00:00\", \"Prev Close\": 2605.6, \"Open\": 2611.4, \"High\": 2614.9, \"Low\": 2539.15, \"Close\": 2547.45, \"Volume\": 1213198}, {\"Date\": \"2015-09-07T00:00:00\", \"Prev Close\": 2547.45, \"Open\": 2553.0, \"High\": 2559.95, \"Low\": 2532.7, \"Close\": 2539.75, \"Volume\": 879592}, {\"Date\": \"2015-09-08T00:00:00\", \"Prev Close\": 2539.75, \"Open\": 2545.0, \"High\": 2564.1, \"Low\": 2523.5, \"Close\": 2540.3, \"Volume\": 893873}, {\"Date\": \"2015-09-09T00:00:00\", \"Prev Close\": 2540.3, \"Open\": 2562.95, \"High\": 2574.0, \"Low\": 2544.0, \"Close\": 2549.75, \"Volume\": 1022538}, {\"Date\": \"2015-09-10T00:00:00\", \"Prev Close\": 2549.75, \"Open\": 2542.0, \"High\": 2578.5, \"Low\": 2527.0, \"Close\": 2545.4, \"Volume\": 1332909}, {\"Date\": \"2015-09-11T00:00:00\", \"Prev Close\": 2545.4, \"Open\": 2546.5, \"High\": 2568.4, \"Low\": 2540.6, \"Close\": 2552.0, \"Volume\": 796336}, {\"Date\": \"2015-09-14T00:00:00\", \"Prev Close\": 2552.0, \"Open\": 2565.0, \"High\": 2565.0, \"Low\": 2543.0, \"Close\": 2551.65, \"Volume\": 794659}, {\"Date\": \"2015-09-15T00:00:00\", \"Prev Close\": 2551.65, \"Open\": 2551.65, \"High\": 2558.9, \"Low\": 2536.0, \"Close\": 2547.6, \"Volume\": 689950}, {\"Date\": \"2015-09-16T00:00:00\", \"Prev Close\": 2547.6, \"Open\": 2555.0, \"High\": 2565.0, \"Low\": 2541.05, \"Close\": 2550.35, \"Volume\": 878408}, {\"Date\": \"2015-09-18T00:00:00\", \"Prev Close\": 2550.35, \"Open\": 2565.0, \"High\": 2586.0, \"Low\": 2539.0, \"Close\": 2551.25, \"Volume\": 1227647}, {\"Date\": \"2015-09-21T00:00:00\", \"Prev Close\": 2551.25, \"Open\": 2550.0, \"High\": 2557.1, \"Low\": 2533.2, \"Close\": 2551.05, \"Volume\": 554420}, {\"Date\": \"2015-09-22T00:00:00\", \"Prev Close\": 2551.05, \"Open\": 2557.5, \"High\": 2572.4, \"Low\": 2490.0, \"Close\": 2526.8, \"Volume\": 1040623}, {\"Date\": \"2015-09-23T00:00:00\", \"Prev Close\": 2526.8, \"Open\": 2534.3, \"High\": 2557.75, \"Low\": 2512.6, \"Close\": 2532.65, \"Volume\": 614176}, {\"Date\": \"2015-09-24T00:00:00\", \"Prev Close\": 2532.65, \"Open\": 2535.5, \"High\": 2590.0, \"Low\": 2529.9, \"Close\": 2580.4, \"Volume\": 1177127}, {\"Date\": \"2015-09-28T00:00:00\", \"Prev Close\": 2580.4, \"Open\": 2594.0, \"High\": 2619.0, \"Low\": 2579.5, \"Close\": 2593.7, \"Volume\": 1183406}, {\"Date\": \"2015-09-29T00:00:00\", \"Prev Close\": 2593.7, \"Open\": 2583.35, \"High\": 2634.0, \"Low\": 2569.85, \"Close\": 2588.25, \"Volume\": 1662976}, {\"Date\": \"2015-09-30T00:00:00\", \"Prev Close\": 2588.25, \"Open\": 2643.7, \"High\": 2643.7, \"Low\": 2570.95, \"Close\": 2588.05, \"Volume\": 1684168}, {\"Date\": \"2015-10-01T00:00:00\", \"Prev Close\": 2588.05, \"Open\": 2599.0, \"High\": 2649.95, \"Low\": 2592.2, \"Close\": 2644.6, \"Volume\": 1417204}, {\"Date\": \"2015-10-05T00:00:00\", \"Prev Close\": 2644.6, \"Open\": 2652.7, \"High\": 2770.0, \"Low\": 2652.7, \"Close\": 2711.65, \"Volume\": 2403653}, {\"Date\": \"2015-10-06T00:00:00\", \"Prev Close\": 2711.65, \"Open\": 2725.0, \"High\": 2726.0, \"Low\": 2684.0, \"Close\": 2700.0, \"Volume\": 1989795}, {\"Date\": \"2015-10-07T00:00:00\", \"Prev Close\": 2700.0, \"Open\": 2693.95, \"High\": 2717.0, \"Low\": 2646.95, \"Close\": 2653.95, \"Volume\": 1032765}, {\"Date\": \"2015-10-08T00:00:00\", \"Prev Close\": 2653.95, \"Open\": 2670.0, \"High\": 2678.35, \"Low\": 2620.0, \"Close\": 2633.8, \"Volume\": 1178775}, {\"Date\": \"2015-10-09T00:00:00\", \"Prev Close\": 2633.8, \"Open\": 2650.5, \"High\": 2650.6, \"Low\": 2608.0, \"Close\": 2629.65, \"Volume\": 1124862}, {\"Date\": \"2015-10-12T00:00:00\", \"Prev Close\": 2629.65, \"Open\": 2655.0, \"High\": 2660.35, \"Low\": 2587.0, \"Close\": 2592.6, \"Volume\": 1227956}, {\"Date\": \"2015-10-13T00:00:00\", \"Prev Close\": 2592.6, \"Open\": 2602.8, \"High\": 2612.0, \"Low\": 2567.6, \"Close\": 2598.55, \"Volume\": 3089856}, {\"Date\": \"2015-10-14T00:00:00\", \"Prev Close\": 2598.55, \"Open\": 2548.0, \"High\": 2548.0, \"Low\": 2480.0, \"Close\": 2483.7, \"Volume\": 4168564}, {\"Date\": \"2015-10-15T00:00:00\", \"Prev Close\": 2483.7, \"Open\": 2490.0, \"High\": 2503.5, \"Low\": 2465.0, \"Close\": 2467.75, \"Volume\": 1607855}, {\"Date\": \"2015-10-16T00:00:00\", \"Prev Close\": 2467.75, \"Open\": 2480.9, \"High\": 2492.0, \"Low\": 2470.0, \"Close\": 2473.75, \"Volume\": 1166914}, {\"Date\": \"2015-10-19T00:00:00\", \"Prev Close\": 2473.75, \"Open\": 2490.0, \"High\": 2494.95, \"Low\": 2455.85, \"Close\": 2488.75, \"Volume\": 1565321}, {\"Date\": \"2015-10-20T00:00:00\", \"Prev Close\": 2488.75, \"Open\": 2496.25, \"High\": 2530.0, \"Low\": 2495.6, \"Close\": 2526.75, \"Volume\": 1347542}, {\"Date\": \"2015-10-21T00:00:00\", \"Prev Close\": 2526.75, \"Open\": 2535.0, \"High\": 2542.0, \"Low\": 2522.25, \"Close\": 2530.0, \"Volume\": 964844}, {\"Date\": \"2015-10-23T00:00:00\", \"Prev Close\": 2530.0, \"Open\": 2548.0, \"High\": 2548.0, \"Low\": 2527.3, \"Close\": 2537.15, \"Volume\": 1167699}, {\"Date\": \"2015-10-26T00:00:00\", \"Prev Close\": 2537.15, \"Open\": 2549.0, \"High\": 2549.0, \"Low\": 2515.1, \"Close\": 2536.55, \"Volume\": 707315}, {\"Date\": \"2015-10-27T00:00:00\", \"Prev Close\": 2536.55, \"Open\": 2530.05, \"High\": 2544.9, \"Low\": 2520.35, \"Close\": 2531.1, \"Volume\": 765210}, {\"Date\": \"2015-10-28T00:00:00\", \"Prev Close\": 2531.1, \"Open\": 2510.05, \"High\": 2533.55, \"Low\": 2510.05, \"Close\": 2529.1, \"Volume\": 627671}, {\"Date\": \"2015-10-29T00:00:00\", \"Prev Close\": 2529.1, \"Open\": 2533.55, \"High\": 2535.4, \"Low\": 2490.05, \"Close\": 2495.35, \"Volume\": 1565158}, {\"Date\": \"2015-10-30T00:00:00\", \"Prev Close\": 2495.35, \"Open\": 2500.0, \"High\": 2511.9, \"Low\": 2485.0, \"Close\": 2495.2, \"Volume\": 758348}, {\"Date\": \"2015-11-02T00:00:00\", \"Prev Close\": 2495.2, \"Open\": 2500.0, \"High\": 2522.8, \"Low\": 2487.55, \"Close\": 2517.35, \"Volume\": 659647}, {\"Date\": \"2015-11-03T00:00:00\", \"Prev Close\": 2517.35, \"Open\": 2528.0, \"High\": 2547.8, \"Low\": 2518.5, \"Close\": 2543.45, \"Volume\": 682453}, {\"Date\": \"2015-11-04T00:00:00\", \"Prev Close\": 2543.45, \"Open\": 2545.0, \"High\": 2547.2, \"Low\": 2520.0, \"Close\": 2533.8, \"Volume\": 495717}, {\"Date\": \"2015-11-05T00:00:00\", \"Prev Close\": 2533.8, \"Open\": 2530.8, \"High\": 2534.95, \"Low\": 2480.0, \"Close\": 2482.65, \"Volume\": 798049}, {\"Date\": \"2015-11-06T00:00:00\", \"Prev Close\": 2482.65, \"Open\": 2492.0, \"High\": 2518.25, \"Low\": 2483.45, \"Close\": 2505.75, \"Volume\": 454012}, {\"Date\": \"2015-11-09T00:00:00\", \"Prev Close\": 2505.75, \"Open\": 2495.0, \"High\": 2502.75, \"Low\": 2468.6, \"Close\": 2471.35, \"Volume\": 1010778}, {\"Date\": \"2015-11-10T00:00:00\", \"Prev Close\": 2471.35, \"Open\": 2472.95, \"High\": 2477.0, \"Low\": 2450.0, \"Close\": 2458.15, \"Volume\": 680960}, {\"Date\": \"2015-11-11T00:00:00\", \"Prev Close\": 2458.15, \"Open\": 2475.0, \"High\": 2475.0, \"Low\": 2450.0, \"Close\": 2468.8, \"Volume\": 67582}, {\"Date\": \"2015-11-13T00:00:00\", \"Prev Close\": 2468.8, \"Open\": 2438.05, \"High\": 2438.05, \"Low\": 2386.55, \"Close\": 2397.4, \"Volume\": 1371616}, {\"Date\": \"2015-11-16T00:00:00\", \"Prev Close\": 2397.4, \"Open\": 2390.0, \"High\": 2390.0, \"Low\": 2356.0, \"Close\": 2374.6, \"Volume\": 1021764}, {\"Date\": \"2015-11-17T00:00:00\", \"Prev Close\": 2374.6, \"Open\": 2380.5, \"High\": 2398.45, \"Low\": 2375.0, \"Close\": 2390.55, \"Volume\": 992514}, {\"Date\": \"2015-11-18T00:00:00\", \"Prev Close\": 2390.55, \"Open\": 2388.9, \"High\": 2388.9, \"Low\": 2346.0, \"Close\": 2351.45, \"Volume\": 760176}, {\"Date\": \"2015-11-19T00:00:00\", \"Prev Close\": 2351.45, \"Open\": 2365.35, \"High\": 2381.6, \"Low\": 2352.0, \"Close\": 2362.55, \"Volume\": 933453}, {\"Date\": \"2015-11-20T00:00:00\", \"Prev Close\": 2362.55, \"Open\": 2366.5, \"High\": 2423.55, \"Low\": 2361.95, \"Close\": 2398.35, \"Volume\": 1006063}, {\"Date\": \"2015-11-23T00:00:00\", \"Prev Close\": 2398.35, \"Open\": 2405.3, \"High\": 2413.4, \"Low\": 2382.25, \"Close\": 2391.05, \"Volume\": 544041}, {\"Date\": \"2015-11-24T00:00:00\", \"Prev Close\": 2391.05, \"Open\": 2380.05, \"High\": 2392.45, \"Low\": 2365.5, \"Close\": 2367.95, \"Volume\": 499320}, {\"Date\": \"2015-11-26T00:00:00\", \"Prev Close\": 2367.95, \"Open\": 2377.9, \"High\": 2382.4, \"Low\": 2337.85, \"Close\": 2345.55, \"Volume\": 1457646}, {\"Date\": \"2015-11-27T00:00:00\", \"Prev Close\": 2345.55, \"Open\": 2348.0, \"High\": 2359.45, \"Low\": 2332.5, \"Close\": 2353.35, \"Volume\": 868603}, {\"Date\": \"2015-11-30T00:00:00\", \"Prev Close\": 2353.35, \"Open\": 2365.0, \"High\": 2391.25, \"Low\": 2350.15, \"Close\": 2364.7, \"Volume\": 2050024}, {\"Date\": \"2015-12-01T00:00:00\", \"Prev Close\": 2364.7, \"Open\": 2362.9, \"High\": 2378.05, \"Low\": 2357.05, \"Close\": 2361.9, \"Volume\": 860997}, {\"Date\": \"2015-12-02T00:00:00\", \"Prev Close\": 2361.9, \"Open\": 2378.0, \"High\": 2378.1, \"Low\": 2346.5, \"Close\": 2365.2, \"Volume\": 820148}, {\"Date\": \"2015-12-03T00:00:00\", \"Prev Close\": 2365.2, \"Open\": 2360.0, \"High\": 2373.0, \"Low\": 2347.0, \"Close\": 2350.75, \"Volume\": 1141679}, {\"Date\": \"2015-12-04T00:00:00\", \"Prev Close\": 2350.75, \"Open\": 2340.0, \"High\": 2347.3, \"Low\": 2321.1, \"Close\": 2328.4, \"Volume\": 623046}, {\"Date\": \"2015-12-07T00:00:00\", \"Prev Close\": 2328.4, \"Open\": 2332.2, \"High\": 2343.9, \"Low\": 2315.25, \"Close\": 2319.8, \"Volume\": 691302}, {\"Date\": \"2015-12-08T00:00:00\", \"Prev Close\": 2319.8, \"Open\": 2319.4, \"High\": 2349.0, \"Low\": 2317.3, \"Close\": 2329.0, \"Volume\": 569982}, {\"Date\": \"2015-12-09T00:00:00\", \"Prev Close\": 2329.0, \"Open\": 2337.9, \"High\": 2372.8, \"Low\": 2320.0, \"Close\": 2367.65, \"Volume\": 2641403}, {\"Date\": \"2015-12-10T00:00:00\", \"Prev Close\": 2367.65, \"Open\": 2369.0, \"High\": 2391.2, \"Low\": 2352.0, \"Close\": 2384.55, \"Volume\": 861994}, {\"Date\": \"2015-12-11T00:00:00\", \"Prev Close\": 2384.55, \"Open\": 2383.0, \"High\": 2391.95, \"Low\": 2363.25, \"Close\": 2386.0, \"Volume\": 826189}, {\"Date\": \"2015-12-14T00:00:00\", \"Prev Close\": 2386.0, \"Open\": 2335.2, \"High\": 2387.0, \"Low\": 2330.6, \"Close\": 2378.45, \"Volume\": 1359266}, {\"Date\": \"2015-12-15T00:00:00\", \"Prev Close\": 2378.45, \"Open\": 2378.45, \"High\": 2385.0, \"Low\": 2363.05, \"Close\": 2375.85, \"Volume\": 567934}, {\"Date\": \"2015-12-16T00:00:00\", \"Prev Close\": 2375.85, \"Open\": 2384.0, \"High\": 2414.5, \"Low\": 2384.0, \"Close\": 2408.4, \"Volume\": 717967}, {\"Date\": \"2015-12-17T00:00:00\", \"Prev Close\": 2408.4, \"Open\": 2415.0, \"High\": 2445.0, \"Low\": 2393.35, \"Close\": 2439.75, \"Volume\": 809422}, {\"Date\": \"2015-12-18T00:00:00\", \"Prev Close\": 2439.75, \"Open\": 2420.0, \"High\": 2434.2, \"Low\": 2400.65, \"Close\": 2416.8, \"Volume\": 1512485}, {\"Date\": \"2015-12-21T00:00:00\", \"Prev Close\": 2416.8, \"Open\": 2419.95, \"High\": 2450.0, \"Low\": 2406.85, \"Close\": 2446.4, \"Volume\": 805052}, {\"Date\": \"2015-12-22T00:00:00\", \"Prev Close\": 2446.4, \"Open\": 2440.0, \"High\": 2440.0, \"Low\": 2400.0, \"Close\": 2405.05, \"Volume\": 780429}, {\"Date\": \"2015-12-23T00:00:00\", \"Prev Close\": 2405.05, \"Open\": 2415.0, \"High\": 2435.0, \"Low\": 2410.55, \"Close\": 2425.8, \"Volume\": 424917}, {\"Date\": \"2015-12-24T00:00:00\", \"Prev Close\": 2425.8, \"Open\": 2421.0, \"High\": 2438.2, \"Low\": 2404.0, \"Close\": 2434.25, \"Volume\": 421580}, {\"Date\": \"2015-12-28T00:00:00\", \"Prev Close\": 2434.25, \"Open\": 2428.0, \"High\": 2466.4, \"Low\": 2420.2, \"Close\": 2462.7, \"Volume\": 1852099}, {\"Date\": \"2015-12-29T00:00:00\", \"Prev Close\": 2462.7, \"Open\": 2458.35, \"High\": 2465.3, \"Low\": 2445.75, \"Close\": 2455.8, \"Volume\": 854262}, {\"Date\": \"2015-12-30T00:00:00\", \"Prev Close\": 2455.8, \"Open\": 2453.05, \"High\": 2459.0, \"Low\": 2412.3, \"Close\": 2418.3, \"Volume\": 802881}, {\"Date\": \"2015-12-31T00:00:00\", \"Prev Close\": 2418.3, \"Open\": 2415.75, \"High\": 2448.5, \"Low\": 2407.5, \"Close\": 2436.85, \"Volume\": 620159}, {\"Date\": \"2016-01-01T00:00:00\", \"Prev Close\": 2436.85, \"Open\": 2439.0, \"High\": 2439.0, \"Low\": 2412.25, \"Close\": 2416.4, \"Volume\": 356131}, {\"Date\": \"2016-01-04T00:00:00\", \"Prev Close\": 2416.4, \"Open\": 2410.15, \"High\": 2414.0, \"Low\": 2366.05, \"Close\": 2369.6, \"Volume\": 935092}, {\"Date\": \"2016-01-05T00:00:00\", \"Prev Close\": 2369.6, \"Open\": 2385.0, \"High\": 2386.6, \"Low\": 2341.0, \"Close\": 2348.95, \"Volume\": 1339010}, {\"Date\": \"2016-01-06T00:00:00\", \"Prev Close\": 2348.95, \"Open\": 2350.2, \"High\": 2386.15, \"Low\": 2350.2, \"Close\": 2381.6, \"Volume\": 1326614}, {\"Date\": \"2016-01-07T00:00:00\", \"Prev Close\": 2381.6, \"Open\": 2370.0, \"High\": 2382.9, \"Low\": 2360.0, \"Close\": 2371.25, \"Volume\": 1599790}, {\"Date\": \"2016-01-08T00:00:00\", \"Prev Close\": 2371.25, \"Open\": 2385.0, \"High\": 2407.35, \"Low\": 2372.5, \"Close\": 2397.6, \"Volume\": 953772}, {\"Date\": \"2016-01-11T00:00:00\", \"Prev Close\": 2397.6, \"Open\": 2382.5, \"High\": 2384.0, \"Low\": 2348.85, \"Close\": 2362.35, \"Volume\": 1465114}, {\"Date\": \"2016-01-12T00:00:00\", \"Prev Close\": 2362.35, \"Open\": 2362.7, \"High\": 2365.0, \"Low\": 2301.6, \"Close\": 2327.05, \"Volume\": 1741297}, {\"Date\": \"2016-01-13T00:00:00\", \"Prev Close\": 2327.05, \"Open\": 2317.0, \"High\": 2327.0, \"Low\": 2255.1, \"Close\": 2279.2, \"Volume\": 2373046}, {\"Date\": \"2016-01-14T00:00:00\", \"Prev Close\": 2279.2, \"Open\": 2273.0, \"High\": 2298.9, \"Low\": 2250.0, \"Close\": 2278.8, \"Volume\": 1371026}, {\"Date\": \"2016-01-15T00:00:00\", \"Prev Close\": 2278.8, \"Open\": 2288.85, \"High\": 2291.7, \"Low\": 2255.0, \"Close\": 2261.1, \"Volume\": 1634704}, {\"Date\": \"2016-01-18T00:00:00\", \"Prev Close\": 2261.1, \"Open\": 2262.0, \"High\": 2291.9, \"Low\": 2260.0, \"Close\": 2277.65, \"Volume\": 1106961}, {\"Date\": \"2016-01-19T00:00:00\", \"Prev Close\": 2277.65, \"Open\": 2277.0, \"High\": 2300.0, \"Low\": 2268.3, \"Close\": 2279.3, \"Volume\": 483955}, {\"Date\": \"2016-01-20T00:00:00\", \"Prev Close\": 2279.3, \"Open\": 2273.8, \"High\": 2285.0, \"Low\": 2243.0, \"Close\": 2280.1, \"Volume\": 807977}, {\"Date\": \"2016-01-21T00:00:00\", \"Prev Close\": 2280.1, \"Open\": 2285.0, \"High\": 2289.9, \"Low\": 2245.75, \"Close\": 2254.5, \"Volume\": 1337768}, {\"Date\": \"2016-01-22T00:00:00\", \"Prev Close\": 2254.5, \"Open\": 2273.0, \"High\": 2302.05, \"Low\": 2260.0, \"Close\": 2295.75, \"Volume\": 671589}, {\"Date\": \"2016-01-25T00:00:00\", \"Prev Close\": 2295.75, \"Open\": 2301.9, \"High\": 2339.0, \"Low\": 2291.5, \"Close\": 2304.65, \"Volume\": 698780}, {\"Date\": \"2016-01-27T00:00:00\", \"Prev Close\": 2304.65, \"Open\": 2302.0, \"High\": 2329.95, \"Low\": 2281.9, \"Close\": 2319.75, \"Volume\": 813493}, {\"Date\": \"2016-01-28T00:00:00\", \"Prev Close\": 2319.75, \"Open\": 2315.5, \"High\": 2348.9, \"Low\": 2308.05, \"Close\": 2331.2, \"Volume\": 1553330}, {\"Date\": \"2016-01-29T00:00:00\", \"Prev Close\": 2331.2, \"Open\": 2358.7, \"High\": 2400.0, \"Low\": 2335.05, \"Close\": 2391.3, \"Volume\": 1117872}, {\"Date\": \"2016-02-01T00:00:00\", \"Prev Close\": 2391.3, \"Open\": 2391.1, \"High\": 2412.95, \"Low\": 2359.0, \"Close\": 2402.7, \"Volume\": 747637}, {\"Date\": \"2016-02-02T00:00:00\", \"Prev Close\": 2402.7, \"Open\": 2409.0, \"High\": 2433.0, \"Low\": 2379.7, \"Close\": 2398.1, \"Volume\": 737794}, {\"Date\": \"2016-02-03T00:00:00\", \"Prev Close\": 2398.1, \"Open\": 2387.5, \"High\": 2429.9, \"Low\": 2360.3, \"Close\": 2416.3, \"Volume\": 654346}, {\"Date\": \"2016-02-04T00:00:00\", \"Prev Close\": 2416.3, \"Open\": 2421.9, \"High\": 2440.0, \"Low\": 2402.0, \"Close\": 2420.05, \"Volume\": 625023}, {\"Date\": \"2016-02-05T00:00:00\", \"Prev Close\": 2420.05, \"Open\": 2408.1, \"High\": 2439.95, \"Low\": 2408.1, \"Close\": 2421.95, \"Volume\": 701498}, {\"Date\": \"2016-02-08T00:00:00\", \"Prev Close\": 2421.95, \"Open\": 2400.0, \"High\": 2412.05, \"Low\": 2347.0, \"Close\": 2362.95, \"Volume\": 531829}, {\"Date\": \"2016-02-09T00:00:00\", \"Prev Close\": 2362.95, \"Open\": 2333.6, \"High\": 2333.6, \"Low\": 2255.6, \"Close\": 2281.4, \"Volume\": 1244805}, {\"Date\": \"2016-02-10T00:00:00\", \"Prev Close\": 2281.4, \"Open\": 2275.0, \"High\": 2289.9, \"Low\": 2258.1, \"Close\": 2268.8, \"Volume\": 945366}, {\"Date\": \"2016-02-11T00:00:00\", \"Prev Close\": 2268.8, \"Open\": 2280.0, \"High\": 2289.0, \"Low\": 2171.65, \"Close\": 2197.95, \"Volume\": 981204}, {\"Date\": \"2016-02-12T00:00:00\", \"Prev Close\": 2197.95, \"Open\": 2200.0, \"High\": 2243.4, \"Low\": 2164.0, \"Close\": 2226.6, \"Volume\": 1086284}, {\"Date\": \"2016-02-15T00:00:00\", \"Prev Close\": 2226.6, \"Open\": 2250.0, \"High\": 2306.85, \"Low\": 2240.0, \"Close\": 2269.15, \"Volume\": 1239856}, {\"Date\": \"2016-02-16T00:00:00\", \"Prev Close\": 2269.15, \"Open\": 2266.0, \"High\": 2282.0, \"Low\": 2243.0, \"Close\": 2265.55, \"Volume\": 794351}, {\"Date\": \"2016-02-17T00:00:00\", \"Prev Close\": 2265.55, \"Open\": 2265.0, \"High\": 2279.65, \"Low\": 2246.4, \"Close\": 2275.55, \"Volume\": 792589}, {\"Date\": \"2016-02-18T00:00:00\", \"Prev Close\": 2275.55, \"Open\": 2285.0, \"High\": 2319.75, \"Low\": 2278.0, \"Close\": 2315.85, \"Volume\": 764570}, {\"Date\": \"2016-02-19T00:00:00\", \"Prev Close\": 2315.85, \"Open\": 2307.35, \"High\": 2327.0, \"Low\": 2305.45, \"Close\": 2319.65, \"Volume\": 439506}, {\"Date\": \"2016-02-22T00:00:00\", \"Prev Close\": 2319.65, \"Open\": 2320.25, \"High\": 2343.0, \"Low\": 2305.0, \"Close\": 2315.9, \"Volume\": 662442}, {\"Date\": \"2016-02-23T00:00:00\", \"Prev Close\": 2315.9, \"Open\": 2310.25, \"High\": 2319.9, \"Low\": 2256.75, \"Close\": 2264.0, \"Volume\": 653426}, {\"Date\": \"2016-02-24T00:00:00\", \"Prev Close\": 2264.0, \"Open\": 2262.45, \"High\": 2262.45, \"Low\": 2201.2, \"Close\": 2210.95, \"Volume\": 829664}, {\"Date\": \"2016-02-25T00:00:00\", \"Prev Close\": 2210.95, \"Open\": 2219.8, \"High\": 2228.0, \"Low\": 2185.65, \"Close\": 2212.85, \"Volume\": 915278}, {\"Date\": \"2016-02-26T00:00:00\", \"Prev Close\": 2212.85, \"Open\": 2229.7, \"High\": 2256.9, \"Low\": 2199.6, \"Close\": 2210.5, \"Volume\": 768768}, {\"Date\": \"2016-02-29T00:00:00\", \"Prev Close\": 2210.5, \"Open\": 2237.0, \"High\": 2237.0, \"Low\": 2115.0, \"Close\": 2176.8, \"Volume\": 1095859}, {\"Date\": \"2016-03-01T00:00:00\", \"Prev Close\": 2176.8, \"Open\": 2193.0, \"High\": 2285.1, \"Low\": 2162.0, \"Close\": 2276.65, \"Volume\": 999880}, {\"Date\": \"2016-03-02T00:00:00\", \"Prev Close\": 2276.65, \"Open\": 2305.0, \"High\": 2330.0, \"Low\": 2256.25, \"Close\": 2318.85, \"Volume\": 763743}, {\"Date\": \"2016-03-03T00:00:00\", \"Prev Close\": 2318.85, \"Open\": 2336.0, \"High\": 2391.0, \"Low\": 2301.0, \"Close\": 2373.15, \"Volume\": 1324142}, {\"Date\": \"2016-03-04T00:00:00\", \"Prev Close\": 2373.15, \"Open\": 2380.0, \"High\": 2380.0, \"Low\": 2349.55, \"Close\": 2357.55, \"Volume\": 756483}, {\"Date\": \"2016-03-08T00:00:00\", \"Prev Close\": 2357.55, \"Open\": 2342.1, \"High\": 2367.0, \"Low\": 2304.2, \"Close\": 2354.3, \"Volume\": 634076}, {\"Date\": \"2016-03-09T00:00:00\", \"Prev Close\": 2354.3, \"Open\": 2341.0, \"High\": 2369.4, \"Low\": 2295.15, \"Close\": 2357.25, \"Volume\": 1008892}, {\"Date\": \"2016-03-10T00:00:00\", \"Prev Close\": 2357.25, \"Open\": 2356.05, \"High\": 2359.85, \"Low\": 2314.95, \"Close\": 2348.3, \"Volume\": 830833}, {\"Date\": \"2016-03-11T00:00:00\", \"Prev Close\": 2348.3, \"Open\": 2340.0, \"High\": 2390.85, \"Low\": 2335.0, \"Close\": 2365.25, \"Volume\": 765264}, {\"Date\": \"2016-03-14T00:00:00\", \"Prev Close\": 2365.25, \"Open\": 2362.0, \"High\": 2398.0, \"Low\": 2340.0, \"Close\": 2355.0, \"Volume\": 818371}, {\"Date\": \"2016-03-15T00:00:00\", \"Prev Close\": 2355.0, \"Open\": 2349.05, \"High\": 2363.5, \"Low\": 2320.1, \"Close\": 2329.9, \"Volume\": 811678}, {\"Date\": \"2016-03-16T00:00:00\", \"Prev Close\": 2329.9, \"Open\": 2315.0, \"High\": 2332.0, \"Low\": 2306.9, \"Close\": 2327.05, \"Volume\": 959123}, {\"Date\": \"2016-03-17T00:00:00\", \"Prev Close\": 2327.05, \"Open\": 2334.0, \"High\": 2361.8, \"Low\": 2332.0, \"Close\": 2352.05, \"Volume\": 1110544}, {\"Date\": \"2016-03-18T00:00:00\", \"Prev Close\": 2352.05, \"Open\": 2360.0, \"High\": 2430.0, \"Low\": 2360.0, \"Close\": 2425.85, \"Volume\": 1602035}, {\"Date\": \"2016-03-21T00:00:00\", \"Prev Close\": 2425.85, \"Open\": 2426.0, \"High\": 2454.95, \"Low\": 2420.0, \"Close\": 2446.25, \"Volume\": 1168491}, {\"Date\": \"2016-03-22T00:00:00\", \"Prev Close\": 2446.25, \"Open\": 2442.0, \"High\": 2485.0, \"Low\": 2436.5, \"Close\": 2473.1, \"Volume\": 975992}, {\"Date\": \"2016-03-23T00:00:00\", \"Prev Close\": 2473.1, \"Open\": 2487.9, \"High\": 2487.9, \"Low\": 2457.3, \"Close\": 2473.8, \"Volume\": 1139217}, {\"Date\": \"2016-03-28T00:00:00\", \"Prev Close\": 2473.8, \"Open\": 2491.0, \"High\": 2517.15, \"Low\": 2461.55, \"Close\": 2473.4, \"Volume\": 1660441}, {\"Date\": \"2016-03-29T00:00:00\", \"Prev Close\": 2473.4, \"Open\": 2478.0, \"High\": 2486.95, \"Low\": 2455.0, \"Close\": 2469.4, \"Volume\": 919398}, {\"Date\": \"2016-03-30T00:00:00\", \"Prev Close\": 2469.4, \"Open\": 2470.9, \"High\": 2505.0, \"Low\": 2460.0, \"Close\": 2489.5, \"Volume\": 1068252}, {\"Date\": \"2016-03-31T00:00:00\", \"Prev Close\": 2489.5, \"Open\": 2478.3, \"High\": 2550.0, \"Low\": 2472.15, \"Close\": 2520.3, \"Volume\": 2181982}, {\"Date\": \"2016-04-01T00:00:00\", \"Prev Close\": 2520.3, \"Open\": 2505.0, \"High\": 2520.85, \"Low\": 2434.1, \"Close\": 2453.9, \"Volume\": 1520700}, {\"Date\": \"2016-04-04T00:00:00\", \"Prev Close\": 2453.9, \"Open\": 2456.0, \"High\": 2488.0, \"Low\": 2447.0, \"Close\": 2471.25, \"Volume\": 876176}, {\"Date\": \"2016-04-05T00:00:00\", \"Prev Close\": 2471.25, \"Open\": 2470.8, \"High\": 2484.9, \"Low\": 2442.05, \"Close\": 2462.75, \"Volume\": 745897}, {\"Date\": \"2016-04-06T00:00:00\", \"Prev Close\": 2462.75, \"Open\": 2470.0, \"High\": 2489.0, \"Low\": 2459.35, \"Close\": 2481.9, \"Volume\": 881575}, {\"Date\": \"2016-04-07T00:00:00\", \"Prev Close\": 2481.9, \"Open\": 2480.0, \"High\": 2484.7, \"Low\": 2457.0, \"Close\": 2470.8, \"Volume\": 1195471}, {\"Date\": \"2016-04-08T00:00:00\", \"Prev Close\": 2470.8, \"Open\": 2466.0, \"High\": 2473.7, \"Low\": 2427.0, \"Close\": 2432.05, \"Volume\": 699750}, {\"Date\": \"2016-04-11T00:00:00\", \"Prev Close\": 2432.05, \"Open\": 2433.0, \"High\": 2517.0, \"Low\": 2413.0, \"Close\": 2506.65, \"Volume\": 1200324}, {\"Date\": \"2016-04-12T00:00:00\", \"Prev Close\": 2506.65, \"Open\": 2498.0, \"High\": 2525.0, \"Low\": 2488.1, \"Close\": 2518.15, \"Volume\": 651814}, {\"Date\": \"2016-04-13T00:00:00\", \"Prev Close\": 2518.15, \"Open\": 2530.0, \"High\": 2545.0, \"Low\": 2512.5, \"Close\": 2526.2, \"Volume\": 800734}, {\"Date\": \"2016-04-18T00:00:00\", \"Prev Close\": 2526.2, \"Open\": 2453.0, \"High\": 2553.5, \"Low\": 2440.0, \"Close\": 2519.75, \"Volume\": 3560752}, {\"Date\": \"2016-04-20T00:00:00\", \"Prev Close\": 2519.75, \"Open\": 2534.9, \"High\": 2534.9, \"Low\": 2440.0, \"Close\": 2450.35, \"Volume\": 3202512}, {\"Date\": \"2016-04-21T00:00:00\", \"Prev Close\": 2450.35, \"Open\": 2451.0, \"High\": 2467.4, \"Low\": 2412.2, \"Close\": 2424.4, \"Volume\": 1262862}, {\"Date\": \"2016-04-22T00:00:00\", \"Prev Close\": 2424.4, \"Open\": 2419.0, \"High\": 2435.4, \"Low\": 2404.2, \"Close\": 2417.05, \"Volume\": 982063}, {\"Date\": \"2016-04-25T00:00:00\", \"Prev Close\": 2417.05, \"Open\": 2402.3, \"High\": 2457.05, \"Low\": 2402.3, \"Close\": 2451.25, \"Volume\": 1133827}, {\"Date\": \"2016-04-26T00:00:00\", \"Prev Close\": 2451.25, \"Open\": 2449.0, \"High\": 2493.5, \"Low\": 2442.0, \"Close\": 2489.8, \"Volume\": 1277184}, {\"Date\": \"2016-04-27T00:00:00\", \"Prev Close\": 2489.8, \"Open\": 2480.0, \"High\": 2514.6, \"Low\": 2475.9, \"Close\": 2511.1, \"Volume\": 924335}, {\"Date\": \"2016-04-28T00:00:00\", \"Prev Close\": 2511.1, \"Open\": 2501.3, \"High\": 2540.0, \"Low\": 2498.1, \"Close\": 2527.75, \"Volume\": 2496372}, {\"Date\": \"2016-04-29T00:00:00\", \"Prev Close\": 2527.75, \"Open\": 2517.0, \"High\": 2542.0, \"Low\": 2510.0, \"Close\": 2535.5, \"Volume\": 1186089}, {\"Date\": \"2016-05-02T00:00:00\", \"Prev Close\": 2535.5, \"Open\": 2529.0, \"High\": 2530.0, \"Low\": 2500.0, \"Close\": 2526.7, \"Volume\": 558346}, {\"Date\": \"2016-05-03T00:00:00\", \"Prev Close\": 2526.7, \"Open\": 2525.0, \"High\": 2530.0, \"Low\": 2472.0, \"Close\": 2478.1, \"Volume\": 1076559}, {\"Date\": \"2016-05-04T00:00:00\", \"Prev Close\": 2478.1, \"Open\": 2473.9, \"High\": 2494.05, \"Low\": 2457.0, \"Close\": 2478.0, \"Volume\": 682446}, {\"Date\": \"2016-05-05T00:00:00\", \"Prev Close\": 2478.0, \"Open\": 2478.0, \"High\": 2489.95, \"Low\": 2463.55, \"Close\": 2470.3, \"Volume\": 623283}, {\"Date\": \"2016-05-06T00:00:00\", \"Prev Close\": 2470.3, \"Open\": 2465.0, \"High\": 2484.3, \"Low\": 2431.0, \"Close\": 2473.4, \"Volume\": 442799}, {\"Date\": \"2016-05-09T00:00:00\", \"Prev Close\": 2473.4, \"Open\": 2473.4, \"High\": 2518.0, \"Low\": 2456.4, \"Close\": 2512.55, \"Volume\": 910638}, {\"Date\": \"2016-05-10T00:00:00\", \"Prev Close\": 2512.55, \"Open\": 2515.0, \"High\": 2533.95, \"Low\": 2496.0, \"Close\": 2522.9, \"Volume\": 579267}, {\"Date\": \"2016-05-11T00:00:00\", \"Prev Close\": 2522.9, \"Open\": 2500.0, \"High\": 2525.6, \"Low\": 2490.0, \"Close\": 2518.3, \"Volume\": 799358}, {\"Date\": \"2016-05-12T00:00:00\", \"Prev Close\": 2518.3, \"Open\": 2520.55, \"High\": 2569.9, \"Low\": 2520.55, \"Close\": 2566.2, \"Volume\": 756541}, {\"Date\": \"2016-05-13T00:00:00\", \"Prev Close\": 2566.2, \"Open\": 2565.0, \"High\": 2566.0, \"Low\": 2510.15, \"Close\": 2523.4, \"Volume\": 810865}, {\"Date\": \"2016-05-16T00:00:00\", \"Prev Close\": 2523.4, \"Open\": 2538.0, \"High\": 2564.8, \"Low\": 2522.5, \"Close\": 2551.15, \"Volume\": 555763}, {\"Date\": \"2016-05-17T00:00:00\", \"Prev Close\": 2551.15, \"Open\": 2564.2, \"High\": 2591.25, \"Low\": 2552.0, \"Close\": 2570.2, \"Volume\": 878349}, {\"Date\": \"2016-05-18T00:00:00\", \"Prev Close\": 2570.2, \"Open\": 2565.85, \"High\": 2565.85, \"Low\": 2526.05, \"Close\": 2551.1, \"Volume\": 750370}, {\"Date\": \"2016-05-19T00:00:00\", \"Prev Close\": 2551.1, \"Open\": 2555.0, \"High\": 2560.0, \"Low\": 2526.1, \"Close\": 2556.95, \"Volume\": 519396}, {\"Date\": \"2016-05-20T00:00:00\", \"Prev Close\": 2556.95, \"Open\": 2542.3, \"High\": 2565.8, \"Low\": 2522.8, \"Close\": 2529.3, \"Volume\": 615459}, {\"Date\": \"2016-05-23T00:00:00\", \"Prev Close\": 2529.3, \"Open\": 2544.0, \"High\": 2545.9, \"Low\": 2480.2, \"Close\": 2491.45, \"Volume\": 766508}, {\"Date\": \"2016-05-24T00:00:00\", \"Prev Close\": 2491.45, \"Open\": 2484.0, \"High\": 2488.25, \"Low\": 2459.6, \"Close\": 2467.7, \"Volume\": 669579}, {\"Date\": \"2016-05-25T00:00:00\", \"Prev Close\": 2467.7, \"Open\": 2481.0, \"High\": 2532.95, \"Low\": 2481.0, \"Close\": 2526.45, \"Volume\": 774339}, {\"Date\": \"2016-05-26T00:00:00\", \"Prev Close\": 2526.45, \"Open\": 2530.0, \"High\": 2564.9, \"Low\": 2505.1, \"Close\": 2548.7, \"Volume\": 971624}, {\"Date\": \"2016-05-27T00:00:00\", \"Prev Close\": 2548.7, \"Open\": 2553.15, \"High\": 2579.85, \"Low\": 2550.6, \"Close\": 2572.65, \"Volume\": 552338}, {\"Date\": \"2016-05-30T00:00:00\", \"Prev Close\": 2572.65, \"Open\": 2583.0, \"High\": 2641.95, \"Low\": 2582.0, \"Close\": 2636.4, \"Volume\": 674732}, {\"Date\": \"2016-05-31T00:00:00\", \"Prev Close\": 2636.4, \"Open\": 2640.0, \"High\": 2647.0, \"Low\": 2562.0, \"Close\": 2569.4, \"Volume\": 1861304}, {\"Date\": \"2016-06-01T00:00:00\", \"Prev Close\": 2569.4, \"Open\": 2571.2, \"High\": 2645.0, \"Low\": 2571.0, \"Close\": 2633.55, \"Volume\": 955971}, {\"Date\": \"2016-06-02T00:00:00\", \"Prev Close\": 2633.55, \"Open\": 2600.0, \"High\": 2654.3, \"Low\": 2600.0, \"Close\": 2650.15, \"Volume\": 704378}, {\"Date\": \"2016-06-03T00:00:00\", \"Prev Close\": 2650.15, \"Open\": 2651.4, \"High\": 2658.0, \"Low\": 2620.5, \"Close\": 2629.55, \"Volume\": 777461}, {\"Date\": \"2016-06-06T00:00:00\", \"Prev Close\": 2629.55, \"Open\": 2620.5, \"High\": 2639.0, \"Low\": 2603.2, \"Close\": 2612.5, \"Volume\": 661013}, {\"Date\": \"2016-06-07T00:00:00\", \"Prev Close\": 2612.5, \"Open\": 2614.0, \"High\": 2639.0, \"Low\": 2613.0, \"Close\": 2631.15, \"Volume\": 601097}, {\"Date\": \"2016-06-08T00:00:00\", \"Prev Close\": 2631.15, \"Open\": 2617.25, \"High\": 2628.55, \"Low\": 2605.5, \"Close\": 2613.1, \"Volume\": 469133}, {\"Date\": \"2016-06-09T00:00:00\", \"Prev Close\": 2613.1, \"Open\": 2622.4, \"High\": 2622.4, \"Low\": 2555.2, \"Close\": 2577.25, \"Volume\": 781069}, {\"Date\": \"2016-06-10T00:00:00\", \"Prev Close\": 2577.25, \"Open\": 2566.0, \"High\": 2603.25, \"Low\": 2553.2, \"Close\": 2555.75, \"Volume\": 698416}, {\"Date\": \"2016-06-13T00:00:00\", \"Prev Close\": 2555.75, \"Open\": 2540.0, \"High\": 2553.35, \"Low\": 2518.0, \"Close\": 2547.0, \"Volume\": 514989}, {\"Date\": \"2016-06-14T00:00:00\", \"Prev Close\": 2547.0, \"Open\": 2558.95, \"High\": 2558.95, \"Low\": 2518.25, \"Close\": 2534.85, \"Volume\": 488785}, {\"Date\": \"2016-06-15T00:00:00\", \"Prev Close\": 2534.85, \"Open\": 2530.0, \"High\": 2564.9, \"Low\": 2522.0, \"Close\": 2556.85, \"Volume\": 635422}, {\"Date\": \"2016-06-16T00:00:00\", \"Prev Close\": 2556.85, \"Open\": 2545.55, \"High\": 2564.7, \"Low\": 2516.45, \"Close\": 2558.3, \"Volume\": 572535}, {\"Date\": \"2016-06-17T00:00:00\", \"Prev Close\": 2558.3, \"Open\": 2559.0, \"High\": 2610.0, \"Low\": 2559.0, \"Close\": 2602.6, \"Volume\": 939494}, {\"Date\": \"2016-06-20T00:00:00\", \"Prev Close\": 2602.6, \"Open\": 2602.6, \"High\": 2668.0, \"Low\": 2591.8, \"Close\": 2659.3, \"Volume\": 936419}, {\"Date\": \"2016-06-21T00:00:00\", \"Prev Close\": 2659.3, \"Open\": 2663.5, \"High\": 2665.0, \"Low\": 2641.4, \"Close\": 2651.2, \"Volume\": 513845}, {\"Date\": \"2016-06-22T00:00:00\", \"Prev Close\": 2651.2, \"Open\": 2650.0, \"High\": 2677.7, \"Low\": 2631.75, \"Close\": 2667.65, \"Volume\": 880856}, {\"Date\": \"2016-06-23T00:00:00\", \"Prev Close\": 2667.65, \"Open\": 2655.0, \"High\": 2659.5, \"Low\": 2625.3, \"Close\": 2645.35, \"Volume\": 698507}, {\"Date\": \"2016-06-24T00:00:00\", \"Prev Close\": 2645.35, \"Open\": 2565.15, \"High\": 2593.2, \"Low\": 2514.15, \"Close\": 2573.95, \"Volume\": 1883293}, {\"Date\": \"2016-06-27T00:00:00\", \"Prev Close\": 2573.95, \"Open\": 2547.0, \"High\": 2547.0, \"Low\": 2482.65, \"Close\": 2495.85, \"Volume\": 2136283}, {\"Date\": \"2016-06-28T00:00:00\", \"Prev Close\": 2495.85, \"Open\": 2495.85, \"High\": 2502.9, \"Low\": 2458.4, \"Close\": 2463.95, \"Volume\": 2249762}, {\"Date\": \"2016-06-29T00:00:00\", \"Prev Close\": 2463.95, \"Open\": 2475.0, \"High\": 2512.5, \"Low\": 2465.3, \"Close\": 2502.9, \"Volume\": 1265632}, {\"Date\": \"2016-06-30T00:00:00\", \"Prev Close\": 2502.9, \"Open\": 2522.0, \"High\": 2562.9, \"Low\": 2500.35, \"Close\": 2553.1, \"Volume\": 2560906}, {\"Date\": \"2016-07-01T00:00:00\", \"Prev Close\": 2553.1, \"Open\": 2562.0, \"High\": 2564.6, \"Low\": 2494.35, \"Close\": 2500.85, \"Volume\": 1098648}, {\"Date\": \"2016-07-04T00:00:00\", \"Prev Close\": 2500.85, \"Open\": 2516.0, \"High\": 2525.85, \"Low\": 2482.0, \"Close\": 2494.2, \"Volume\": 941742}, {\"Date\": \"2016-07-05T00:00:00\", \"Prev Close\": 2494.2, \"Open\": 2494.2, \"High\": 2497.05, \"Low\": 2477.15, \"Close\": 2485.3, \"Volume\": 779874}, {\"Date\": \"2016-07-07T00:00:00\", \"Prev Close\": 2485.3, \"Open\": 2487.7, \"High\": 2491.85, \"Low\": 2425.0, \"Close\": 2429.8, \"Volume\": 1658400}, {\"Date\": \"2016-07-08T00:00:00\", \"Prev Close\": 2429.8, \"Open\": 2435.0, \"High\": 2442.05, \"Low\": 2403.5, \"Close\": 2426.6, \"Volume\": 1228178}, {\"Date\": \"2016-07-11T00:00:00\", \"Prev Close\": 2426.6, \"Open\": 2430.0, \"High\": 2471.8, \"Low\": 2427.0, \"Close\": 2464.15, \"Volume\": 771816}, {\"Date\": \"2016-07-12T00:00:00\", \"Prev Close\": 2464.15, \"Open\": 2471.7, \"High\": 2475.0, \"Low\": 2435.85, \"Close\": 2464.95, \"Volume\": 732768}, {\"Date\": \"2016-07-13T00:00:00\", \"Prev Close\": 2464.95, \"Open\": 2478.0, \"High\": 2499.25, \"Low\": 2451.25, \"Close\": 2493.1, \"Volume\": 1051150}, {\"Date\": \"2016-07-14T00:00:00\", \"Prev Close\": 2493.1, \"Open\": 2486.0, \"High\": 2529.0, \"Low\": 2471.0, \"Close\": 2521.9, \"Volume\": 1349994}, {\"Date\": \"2016-07-15T00:00:00\", \"Prev Close\": 2521.9, \"Open\": 2517.0, \"High\": 2527.8, \"Low\": 2426.55, \"Close\": 2445.35, \"Volume\": 4168183}, {\"Date\": \"2016-07-18T00:00:00\", \"Prev Close\": 2445.35, \"Open\": 2447.0, \"High\": 2469.0, \"Low\": 2430.6, \"Close\": 2433.45, \"Volume\": 1299425}, {\"Date\": \"2016-07-19T00:00:00\", \"Prev Close\": 2433.45, \"Open\": 2427.5, \"High\": 2472.8, \"Low\": 2427.5, \"Close\": 2466.2, \"Volume\": 1181448}, {\"Date\": \"2016-07-20T00:00:00\", \"Prev Close\": 2466.2, \"Open\": 2450.0, \"High\": 2502.5, \"Low\": 2448.15, \"Close\": 2494.95, \"Volume\": 1407626}, {\"Date\": \"2016-07-21T00:00:00\", \"Prev Close\": 2494.95, \"Open\": 2489.5, \"High\": 2519.5, \"Low\": 2464.45, \"Close\": 2506.05, \"Volume\": 1263574}, {\"Date\": \"2016-07-22T00:00:00\", \"Prev Close\": 2506.05, \"Open\": 2498.9, \"High\": 2524.0, \"Low\": 2492.0, \"Close\": 2515.1, \"Volume\": 758608}, {\"Date\": \"2016-07-25T00:00:00\", \"Prev Close\": 2515.1, \"Open\": 2512.0, \"High\": 2563.2, \"Low\": 2505.8, \"Close\": 2558.95, \"Volume\": 844398}, {\"Date\": \"2016-07-26T00:00:00\", \"Prev Close\": 2558.95, \"Open\": 2558.95, \"High\": 2568.0, \"Low\": 2533.0, \"Close\": 2552.6, \"Volume\": 1155645}, {\"Date\": \"2016-07-27T00:00:00\", \"Prev Close\": 2552.6, \"Open\": 2555.0, \"High\": 2580.4, \"Low\": 2545.0, \"Close\": 2577.55, \"Volume\": 875255}, {\"Date\": \"2016-07-28T00:00:00\", \"Prev Close\": 2577.55, \"Open\": 2580.5, \"High\": 2629.55, \"Low\": 2577.05, \"Close\": 2619.25, \"Volume\": 2316040}, {\"Date\": \"2016-07-29T00:00:00\", \"Prev Close\": 2619.25, \"Open\": 2614.0, \"High\": 2634.9, \"Low\": 2599.0, \"Close\": 2619.3, \"Volume\": 1244042}, {\"Date\": \"2016-08-01T00:00:00\", \"Prev Close\": 2619.3, \"Open\": 2632.0, \"High\": 2725.0, \"Low\": 2632.0, \"Close\": 2708.25, \"Volume\": 1980852}, {\"Date\": \"2016-08-02T00:00:00\", \"Prev Close\": 2708.25, \"Open\": 2702.9, \"High\": 2715.7, \"Low\": 2689.8, \"Close\": 2699.2, \"Volume\": 1289081}, {\"Date\": \"2016-08-03T00:00:00\", \"Prev Close\": 2699.2, \"Open\": 2686.0, \"High\": 2699.0, \"Low\": 2649.05, \"Close\": 2656.3, \"Volume\": 1147351}, {\"Date\": \"2016-08-04T00:00:00\", \"Prev Close\": 2656.3, \"Open\": 2670.0, \"High\": 2682.95, \"Low\": 2636.25, \"Close\": 2652.0, \"Volume\": 707708}, {\"Date\": \"2016-08-05T00:00:00\", \"Prev Close\": 2652.0, \"Open\": 2673.9, \"High\": 2684.3, \"Low\": 2632.0, \"Close\": 2649.1, \"Volume\": 934242}, {\"Date\": \"2016-08-08T00:00:00\", \"Prev Close\": 2649.1, \"Open\": 2640.0, \"High\": 2668.0, \"Low\": 2629.05, \"Close\": 2649.5, \"Volume\": 1029122}, {\"Date\": \"2016-08-09T00:00:00\", \"Prev Close\": 2649.5, \"Open\": 2658.0, \"High\": 2659.8, \"Low\": 2578.85, \"Close\": 2650.2, \"Volume\": 1130957}, {\"Date\": \"2016-08-10T00:00:00\", \"Prev Close\": 2650.2, \"Open\": 2651.0, \"High\": 2682.0, \"Low\": 2648.0, \"Close\": 2675.4, \"Volume\": 1031039}, {\"Date\": \"2016-08-11T00:00:00\", \"Prev Close\": 2675.4, \"Open\": 2665.55, \"High\": 2715.0, \"Low\": 2665.55, \"Close\": 2709.9, \"Volume\": 1116569}, {\"Date\": \"2016-08-12T00:00:00\", \"Prev Close\": 2709.9, \"Open\": 2705.0, \"High\": 2744.8, \"Low\": 2702.05, \"Close\": 2738.45, \"Volume\": 1163679}, {\"Date\": \"2016-08-16T00:00:00\", \"Prev Close\": 2738.45, \"Open\": 2738.0, \"High\": 2740.0, \"Low\": 2673.85, \"Close\": 2691.7, \"Volume\": 1591877}, {\"Date\": \"2016-08-17T00:00:00\", \"Prev Close\": 2691.7, \"Open\": 2699.0, \"High\": 2699.0, \"Low\": 2618.0, \"Close\": 2624.55, \"Volume\": 924283}, {\"Date\": \"2016-08-18T00:00:00\", \"Prev Close\": 2624.55, \"Open\": 2635.0, \"High\": 2657.55, \"Low\": 2630.1, \"Close\": 2638.55, \"Volume\": 646032}, {\"Date\": \"2016-08-19T00:00:00\", \"Prev Close\": 2638.55, \"Open\": 2640.0, \"High\": 2646.45, \"Low\": 2600.0, \"Close\": 2603.5, \"Volume\": 1208122}, {\"Date\": \"2016-08-22T00:00:00\", \"Prev Close\": 2603.5, \"Open\": 2588.0, \"High\": 2594.45, \"Low\": 2536.3, \"Close\": 2548.7, \"Volume\": 1132637}, {\"Date\": \"2016-08-23T00:00:00\", \"Prev Close\": 2548.7, \"Open\": 2544.95, \"High\": 2604.95, \"Low\": 2540.2, \"Close\": 2601.05, \"Volume\": 751687}, {\"Date\": \"2016-08-24T00:00:00\", \"Prev Close\": 2601.05, \"Open\": 2589.8, \"High\": 2602.0, \"Low\": 2569.05, \"Close\": 2572.05, \"Volume\": 558439}, {\"Date\": \"2016-08-25T00:00:00\", \"Prev Close\": 2572.05, \"Open\": 2580.0, \"High\": 2589.7, \"Low\": 2526.0, \"Close\": 2551.05, \"Volume\": 969845}, {\"Date\": \"2016-08-26T00:00:00\", \"Prev Close\": 2551.05, \"Open\": 2559.8, \"High\": 2572.55, \"Low\": 2517.2, \"Close\": 2524.95, \"Volume\": 625157}, {\"Date\": \"2016-08-29T00:00:00\", \"Prev Close\": 2524.95, \"Open\": 2534.95, \"High\": 2534.95, \"Low\": 2466.75, \"Close\": 2500.55, \"Volume\": 744364}, {\"Date\": \"2016-08-30T00:00:00\", \"Prev Close\": 2500.55, \"Open\": 2510.0, \"High\": 2549.8, \"Low\": 2501.25, \"Close\": 2544.15, \"Volume\": 722013}, {\"Date\": \"2016-08-31T00:00:00\", \"Prev Close\": 2544.15, \"Open\": 2550.0, \"High\": 2550.0, \"Low\": 2500.85, \"Close\": 2511.3, \"Volume\": 1615834}, {\"Date\": \"2016-09-01T00:00:00\", \"Prev Close\": 2511.3, \"Open\": 2524.9, \"High\": 2534.95, \"Low\": 2487.05, \"Close\": 2507.5, \"Volume\": 672868}, {\"Date\": \"2016-09-02T00:00:00\", \"Prev Close\": 2507.5, \"Open\": 2512.0, \"High\": 2519.4, \"Low\": 2496.05, \"Close\": 2514.8, \"Volume\": 871165}, {\"Date\": \"2016-09-06T00:00:00\", \"Prev Close\": 2514.8, \"Open\": 2519.9, \"High\": 2520.15, \"Low\": 2480.0, \"Close\": 2484.05, \"Volume\": 1119533}, {\"Date\": \"2016-09-07T00:00:00\", \"Prev Close\": 2484.05, \"Open\": 2499.7, \"High\": 2499.7, \"Low\": 2423.0, \"Close\": 2440.55, \"Volume\": 1927020}, {\"Date\": \"2016-09-08T00:00:00\", \"Prev Close\": 2440.55, \"Open\": 2360.0, \"High\": 2360.0, \"Low\": 2284.75, \"Close\": 2322.1, \"Volume\": 3510758}, {\"Date\": \"2016-09-09T00:00:00\", \"Prev Close\": 2322.1, \"Open\": 2329.7, \"High\": 2366.65, \"Low\": 2320.05, \"Close\": 2352.45, \"Volume\": 1371219}, {\"Date\": \"2016-09-12T00:00:00\", \"Prev Close\": 2352.45, \"Open\": 2337.0, \"High\": 2363.95, \"Low\": 2324.0, \"Close\": 2359.05, \"Volume\": 1012227}, {\"Date\": \"2016-09-14T00:00:00\", \"Prev Close\": 2359.05, \"Open\": 2362.0, \"High\": 2377.6, \"Low\": 2310.0, \"Close\": 2328.45, \"Volume\": 1034929}, {\"Date\": \"2016-09-15T00:00:00\", \"Prev Close\": 2328.45, \"Open\": 2339.95, \"High\": 2342.1, \"Low\": 2316.75, \"Close\": 2326.95, \"Volume\": 1409482}, {\"Date\": \"2016-09-16T00:00:00\", \"Prev Close\": 2326.95, \"Open\": 2336.7, \"High\": 2376.0, \"Low\": 2320.0, \"Close\": 2361.7, \"Volume\": 2179002}, {\"Date\": \"2016-09-19T00:00:00\", \"Prev Close\": 2361.7, \"Open\": 2365.0, \"High\": 2427.0, \"Low\": 2350.0, \"Close\": 2411.45, \"Volume\": 1401273}, {\"Date\": \"2016-09-20T00:00:00\", \"Prev Close\": 2411.45, \"Open\": 2411.0, \"High\": 2416.9, \"Low\": 2385.4, \"Close\": 2406.5, \"Volume\": 592276}, {\"Date\": \"2016-09-21T00:00:00\", \"Prev Close\": 2406.5, \"Open\": 2407.7, \"High\": 2424.0, \"Low\": 2400.7, \"Close\": 2413.4, \"Volume\": 839010}, {\"Date\": \"2016-09-22T00:00:00\", \"Prev Close\": 2413.4, \"Open\": 2425.25, \"High\": 2428.0, \"Low\": 2371.1, \"Close\": 2378.0, \"Volume\": 1428787}, {\"Date\": \"2016-09-23T00:00:00\", \"Prev Close\": 2378.0, \"Open\": 2382.0, \"High\": 2403.85, \"Low\": 2371.15, \"Close\": 2398.1, \"Volume\": 900363}, {\"Date\": \"2016-09-26T00:00:00\", \"Prev Close\": 2398.1, \"Open\": 2401.1, \"High\": 2419.1, \"Low\": 2395.0, \"Close\": 2401.1, \"Volume\": 876738}, {\"Date\": \"2016-09-27T00:00:00\", \"Prev Close\": 2401.1, \"Open\": 2401.1, \"High\": 2448.0, \"Low\": 2401.1, \"Close\": 2436.1, \"Volume\": 1019396}, {\"Date\": \"2016-09-28T00:00:00\", \"Prev Close\": 2436.1, \"Open\": 2431.0, \"High\": 2437.5, \"Low\": 2415.2, \"Close\": 2423.05, \"Volume\": 865664}, {\"Date\": \"2016-09-29T00:00:00\", \"Prev Close\": 2423.05, \"Open\": 2435.0, \"High\": 2456.5, \"Low\": 2419.6, \"Close\": 2437.8, \"Volume\": 1801979}, {\"Date\": \"2016-09-30T00:00:00\", \"Prev Close\": 2437.8, \"Open\": 2437.05, \"High\": 2449.8, \"Low\": 2423.1, \"Close\": 2430.8, \"Volume\": 1087682}, {\"Date\": \"2016-10-03T00:00:00\", \"Prev Close\": 2430.8, \"Open\": 2450.0, \"High\": 2457.65, \"Low\": 2401.1, \"Close\": 2411.7, \"Volume\": 909440}, {\"Date\": \"2016-10-04T00:00:00\", \"Prev Close\": 2411.7, \"Open\": 2420.0, \"High\": 2425.05, \"Low\": 2398.0, \"Close\": 2405.15, \"Volume\": 890359}, {\"Date\": \"2016-10-05T00:00:00\", \"Prev Close\": 2405.15, \"Open\": 2408.0, \"High\": 2415.4, \"Low\": 2376.1, \"Close\": 2386.35, \"Volume\": 588177}, {\"Date\": \"2016-10-06T00:00:00\", \"Prev Close\": 2386.35, \"Open\": 2395.0, \"High\": 2402.4, \"Low\": 2372.75, \"Close\": 2388.75, \"Volume\": 1133786}, {\"Date\": \"2016-10-07T00:00:00\", \"Prev Close\": 2388.75, \"Open\": 2388.0, \"High\": 2388.0, \"Low\": 2358.2, \"Close\": 2367.8, \"Volume\": 908256}, {\"Date\": \"2016-10-10T00:00:00\", \"Prev Close\": 2367.8, \"Open\": 2369.9, \"High\": 2386.9, \"Low\": 2355.05, \"Close\": 2380.3, \"Volume\": 601071}, {\"Date\": \"2016-10-13T00:00:00\", \"Prev Close\": 2380.3, \"Open\": 2363.3, \"High\": 2369.9, \"Low\": 2320.9, \"Close\": 2328.9, \"Volume\": 2586667}, {\"Date\": \"2016-10-14T00:00:00\", \"Prev Close\": 2328.9, \"Open\": 2315.0, \"High\": 2387.0, \"Low\": 2291.0, \"Close\": 2366.2, \"Volume\": 3870607}, {\"Date\": \"2016-10-17T00:00:00\", \"Prev Close\": 2366.2, \"Open\": 2368.9, \"High\": 2375.8, \"Low\": 2344.4, \"Close\": 2362.45, \"Volume\": 1364173}, {\"Date\": \"2016-10-18T00:00:00\", \"Prev Close\": 2362.45, \"Open\": 2376.0, \"High\": 2415.7, \"Low\": 2354.8, \"Close\": 2400.2, \"Volume\": 1064316}, {\"Date\": \"2016-10-19T00:00:00\", \"Prev Close\": 2400.2, \"Open\": 2401.0, \"High\": 2410.0, \"Low\": 2370.3, \"Close\": 2395.1, \"Volume\": 992529}, {\"Date\": \"2016-10-20T00:00:00\", \"Prev Close\": 2395.1, \"Open\": 2396.9, \"High\": 2409.35, \"Low\": 2386.0, \"Close\": 2401.15, \"Volume\": 632927}, {\"Date\": \"2016-10-21T00:00:00\", \"Prev Close\": 2401.15, \"Open\": 2400.0, \"High\": 2431.9, \"Low\": 2398.25, \"Close\": 2428.65, \"Volume\": 629830}, {\"Date\": \"2016-10-24T00:00:00\", \"Prev Close\": 2428.65, \"Open\": 2428.2, \"High\": 2434.9, \"Low\": 2402.55, \"Close\": 2427.7, \"Volume\": 626595}, {\"Date\": \"2016-10-25T00:00:00\", \"Prev Close\": 2427.7, \"Open\": 2405.0, \"High\": 2414.6, \"Low\": 2381.0, \"Close\": 2398.45, \"Volume\": 886233}, {\"Date\": \"2016-10-26T00:00:00\", \"Prev Close\": 2398.45, \"Open\": 2398.6, \"High\": 2402.75, \"Low\": 2372.5, \"Close\": 2396.25, \"Volume\": 718565}, {\"Date\": \"2016-10-27T00:00:00\", \"Prev Close\": 2396.25, \"Open\": 2379.7, \"High\": 2429.5, \"Low\": 2365.5, \"Close\": 2418.1, \"Volume\": 1470801}, {\"Date\": \"2016-10-28T00:00:00\", \"Prev Close\": 2418.1, \"Open\": 2410.0, \"High\": 2415.1, \"Low\": 2388.0, \"Close\": 2398.7, \"Volume\": 876051}, {\"Date\": \"2016-10-30T00:00:00\", \"Prev Close\": 2398.7, \"Open\": 2398.7, \"High\": 2408.95, \"Low\": 2382.0, \"Close\": 2391.05, \"Volume\": 42676}, {\"Date\": \"2016-11-01T00:00:00\", \"Prev Close\": 2391.05, \"Open\": 2399.7, \"High\": 2399.7, \"Low\": 2334.15, \"Close\": 2350.0, \"Volume\": 1467388}, {\"Date\": \"2016-11-02T00:00:00\", \"Prev Close\": 2350.0, \"Open\": 2341.0, \"High\": 2344.0, \"Low\": 2295.0, \"Close\": 2304.05, \"Volume\": 1162538}, {\"Date\": \"2016-11-03T00:00:00\", \"Prev Close\": 2304.05, \"Open\": 2294.0, \"High\": 2335.0, \"Low\": 2284.5, \"Close\": 2319.45, \"Volume\": 731655}, {\"Date\": \"2016-11-04T00:00:00\", \"Prev Close\": 2319.45, \"Open\": 2320.0, \"High\": 2336.15, \"Low\": 2294.0, \"Close\": 2330.55, \"Volume\": 591876}, {\"Date\": \"2016-11-07T00:00:00\", \"Prev Close\": 2330.55, \"Open\": 2337.9, \"High\": 2344.9, \"Low\": 2260.05, \"Close\": 2277.05, \"Volume\": 1024026}, {\"Date\": \"2016-11-08T00:00:00\", \"Prev Close\": 2277.05, \"Open\": 2280.45, \"High\": 2307.0, \"Low\": 2260.0, \"Close\": 2283.2, \"Volume\": 966817}, {\"Date\": \"2016-11-09T00:00:00\", \"Prev Close\": 2283.2, \"Open\": 2180.0, \"High\": 2275.0, \"Low\": 2142.85, \"Close\": 2169.85, \"Volume\": 2250113}, {\"Date\": \"2016-11-10T00:00:00\", \"Prev Close\": 2169.85, \"Open\": 2204.8, \"High\": 2217.5, \"Low\": 2140.8, \"Close\": 2155.45, \"Volume\": 1086213}, {\"Date\": \"2016-11-11T00:00:00\", \"Prev Close\": 2155.45, \"Open\": 2147.05, \"High\": 2147.05, \"Low\": 2086.2, \"Close\": 2101.15, \"Volume\": 1199212}, {\"Date\": \"2016-11-15T00:00:00\", \"Prev Close\": 2101.15, \"Open\": 2116.9, \"High\": 2157.55, \"Low\": 2051.9, \"Close\": 2121.3, \"Volume\": 3145162}, {\"Date\": \"2016-11-16T00:00:00\", \"Prev Close\": 2121.3, \"Open\": 2145.1, \"High\": 2208.9, \"Low\": 2138.0, \"Close\": 2189.6, \"Volume\": 2009979}, {\"Date\": \"2016-11-17T00:00:00\", \"Prev Close\": 2189.6, \"Open\": 2185.0, \"High\": 2208.6, \"Low\": 2130.15, \"Close\": 2137.2, \"Volume\": 1252344}, {\"Date\": \"2016-11-18T00:00:00\", \"Prev Close\": 2137.2, \"Open\": 2142.0, \"High\": 2150.0, \"Low\": 2104.2, \"Close\": 2125.1, \"Volume\": 1070267}, {\"Date\": \"2016-11-21T00:00:00\", \"Prev Close\": 2125.1, \"Open\": 2126.2, \"High\": 2140.0, \"Low\": 2105.0, \"Close\": 2132.9, \"Volume\": 896683}, {\"Date\": \"2016-11-22T00:00:00\", \"Prev Close\": 2132.9, \"Open\": 2132.0, \"High\": 2177.45, \"Low\": 2122.05, \"Close\": 2135.0, \"Volume\": 659430}, {\"Date\": \"2016-11-23T00:00:00\", \"Prev Close\": 2135.0, \"Open\": 2149.0, \"High\": 2162.95, \"Low\": 2127.2, \"Close\": 2156.35, \"Volume\": 637904}, {\"Date\": \"2016-11-24T00:00:00\", \"Prev Close\": 2156.35, \"Open\": 2154.9, \"High\": 2207.6, \"Low\": 2137.0, \"Close\": 2188.45, \"Volume\": 1513117}, {\"Date\": \"2016-11-25T00:00:00\", \"Prev Close\": 2188.45, \"Open\": 2212.0, \"High\": 2307.25, \"Low\": 2192.2, \"Close\": 2300.35, \"Volume\": 2138074}, {\"Date\": \"2016-11-28T00:00:00\", \"Prev Close\": 2300.35, \"Open\": 2294.0, \"High\": 2319.45, \"Low\": 2251.9, \"Close\": 2282.6, \"Volume\": 962148}, {\"Date\": \"2016-11-29T00:00:00\", \"Prev Close\": 2282.6, \"Open\": 2275.0, \"High\": 2292.0, \"Low\": 2252.55, \"Close\": 2259.85, \"Volume\": 721148}, {\"Date\": \"2016-11-30T00:00:00\", \"Prev Close\": 2259.85, \"Open\": 2265.0, \"High\": 2294.75, \"Low\": 2242.3, \"Close\": 2276.05, \"Volume\": 1722916}, {\"Date\": \"2016-12-01T00:00:00\", \"Prev Close\": 2276.05, \"Open\": 2277.0, \"High\": 2290.0, \"Low\": 2254.05, \"Close\": 2263.45, \"Volume\": 561526}, {\"Date\": \"2016-12-02T00:00:00\", \"Prev Close\": 2263.45, \"Open\": 2258.0, \"High\": 2270.8, \"Low\": 2205.2, \"Close\": 2221.85, \"Volume\": 999016}, {\"Date\": \"2016-12-05T00:00:00\", \"Prev Close\": 2221.85, \"Open\": 2229.0, \"High\": 2237.85, \"Low\": 2170.0, \"Close\": 2186.0, \"Volume\": 1124763}, {\"Date\": \"2016-12-06T00:00:00\", \"Prev Close\": 2186.0, \"Open\": 2190.0, \"High\": 2203.95, \"Low\": 2169.9, \"Close\": 2182.35, \"Volume\": 796722}, {\"Date\": \"2016-12-07T00:00:00\", \"Prev Close\": 2182.35, \"Open\": 2182.2, \"High\": 2184.45, \"Low\": 2145.65, \"Close\": 2154.55, \"Volume\": 1032853}, {\"Date\": \"2016-12-08T00:00:00\", \"Prev Close\": 2154.55, \"Open\": 2160.5, \"High\": 2199.0, \"Low\": 2160.0, \"Close\": 2195.75, \"Volume\": 1619773}, {\"Date\": \"2016-12-09T00:00:00\", \"Prev Close\": 2195.75, \"Open\": 2205.0, \"High\": 2219.9, \"Low\": 2173.3, \"Close\": 2195.25, \"Volume\": 794359}, {\"Date\": \"2016-12-12T00:00:00\", \"Prev Close\": 2195.25, \"Open\": 2194.8, \"High\": 2217.6, \"Low\": 2163.0, \"Close\": 2208.2, \"Volume\": 655879}, {\"Date\": \"2016-12-13T00:00:00\", \"Prev Close\": 2208.2, \"Open\": 2218.0, \"High\": 2218.0, \"Low\": 2183.0, \"Close\": 2200.3, \"Volume\": 1073767}, {\"Date\": \"2016-12-14T00:00:00\", \"Prev Close\": 2200.3, \"Open\": 2214.0, \"High\": 2224.7, \"Low\": 2189.0, \"Close\": 2207.6, \"Volume\": 935183}, {\"Date\": \"2016-12-15T00:00:00\", \"Prev Close\": 2207.6, \"Open\": 2202.0, \"High\": 2272.1, \"Low\": 2202.0, \"Close\": 2259.3, \"Volume\": 2147705}, {\"Date\": \"2016-12-16T00:00:00\", \"Prev Close\": 2259.3, \"Open\": 2277.0, \"High\": 2290.0, \"Low\": 2252.0, \"Close\": 2282.65, \"Volume\": 993615}, {\"Date\": \"2016-12-19T00:00:00\", \"Prev Close\": 2282.65, \"Open\": 2280.0, \"High\": 2297.7, \"Low\": 2261.3, \"Close\": 2288.9, \"Volume\": 667105}, {\"Date\": \"2016-12-20T00:00:00\", \"Prev Close\": 2288.9, \"Open\": 2292.0, \"High\": 2345.0, \"Low\": 2287.05, \"Close\": 2339.3, \"Volume\": 1461380}, {\"Date\": \"2016-12-21T00:00:00\", \"Prev Close\": 2339.3, \"Open\": 2343.8, \"High\": 2343.8, \"Low\": 2305.6, \"Close\": 2313.6, \"Volume\": 1017451}, {\"Date\": \"2016-12-22T00:00:00\", \"Prev Close\": 2313.6, \"Open\": 2306.0, \"High\": 2325.0, \"Low\": 2286.2, \"Close\": 2307.7, \"Volume\": 934150}, {\"Date\": \"2016-12-23T00:00:00\", \"Prev Close\": 2307.7, \"Open\": 2300.0, \"High\": 2317.75, \"Low\": 2278.8, \"Close\": 2288.1, \"Volume\": 559477}, {\"Date\": \"2016-12-26T00:00:00\", \"Prev Close\": 2288.1, \"Open\": 2266.0, \"High\": 2301.6, \"Low\": 2266.0, \"Close\": 2293.1, \"Volume\": 448704}, {\"Date\": \"2016-12-27T00:00:00\", \"Prev Close\": 2293.1, \"Open\": 2281.5, \"High\": 2330.0, \"Low\": 2281.5, \"Close\": 2323.4, \"Volume\": 647346}, {\"Date\": \"2016-12-28T00:00:00\", \"Prev Close\": 2323.4, \"Open\": 2326.7, \"High\": 2349.9, \"Low\": 2303.15, \"Close\": 2313.4, \"Volume\": 675209}, {\"Date\": \"2016-12-29T00:00:00\", \"Prev Close\": 2313.4, \"Open\": 2303.0, \"High\": 2359.9, \"Low\": 2303.0, \"Close\": 2351.7, \"Volume\": 981758}, {\"Date\": \"2016-12-30T00:00:00\", \"Prev Close\": 2351.7, \"Open\": 2354.9, \"High\": 2378.6, \"Low\": 2345.65, \"Close\": 2365.55, \"Volume\": 702874}]}}, {\"mode\": \"vega-lite\"});\n",
              "</script>"
            ],
            "text/plain": [
              "alt.Chart(...)"
            ]
          },
          "metadata": {},
          "execution_count": 13
        }
      ]
    },
    {
      "cell_type": "markdown",
      "source": [
        "##FEATURE ENGINEERING"
      ],
      "metadata": {
        "id": "ZDFbSxJEj42r"
      }
    },
    {
      "cell_type": "code",
      "source": [
        "from fastai.tabular.core import add_datepart"
      ],
      "metadata": {
        "id": "PhpXGfCxyN5U"
      },
      "execution_count": null,
      "outputs": []
    },
    {
      "cell_type": "code",
      "source": [
        "add_datepart(data_new, 'Date', drop=False)\n",
        "data_new.drop('Elapsed', axis=1, inplace=True)"
      ],
      "metadata": {
        "id": "VfLPdTDLpq9n"
      },
      "execution_count": null,
      "outputs": []
    },
    {
      "cell_type": "code",
      "source": [
        "def featurecalculator(share):\n",
        "  share['EMA_9'] = share['Close'].ewm(9).mean() # exponential moving average of window 9\n",
        "  share['SMA_5'] = share['Close'].rolling(5).mean() # moving average of window 5\n",
        "  share['SMA_10'] = share['Close'].rolling(10).mean() # moving average of window 10\n",
        "  share['SMA_15'] = share['Close'].rolling(15).mean() # moving average of window 15\n",
        "  share['SMA_20'] = share['Close'].rolling(20).mean() # moving average of window 20\n",
        "  share['SMA_25'] = share['Close'].rolling(25).mean() # moving average of window 25\n",
        "  share['SMA_30'] = share['Close'].rolling(30).mean() # moving average of window 30\n",
        "  EMA_12 = pd.Series(share['Close'].ewm(span=12, min_periods=12).mean())\n",
        "  EMA_26 = pd.Series(share['Close'].ewm(span=26, min_periods=26).mean())\n",
        "  share['MACD'] = pd.Series(EMA_12 - EMA_26)    # calculates Moving Average Convergence Divergence\n",
        "  share['RSI'] = RSIIndicator(share['Close']).rsi() # calculates Relative Strength Index \n",
        "  share['Stochastic']=StochasticOscillator(share['High'],share['Low'],share['Close']).stoch() # Calculates Stochastic Oscillator\n",
        "  pass"
      ],
      "metadata": {
        "id": "wuXeGkXaj_-1"
      },
      "execution_count": null,
      "outputs": []
    },
    {
      "cell_type": "code",
      "source": [
        "featurecalculator(data_new)"
      ],
      "metadata": {
        "id": "URzORzv7kGjR"
      },
      "execution_count": null,
      "outputs": []
    },
    {
      "cell_type": "code",
      "source": [
        "def labelencode(share):\n",
        "  LE=LabelEncoder()\n",
        "  # share['Is_month_end']=LE.fit_transform(share['Is_month_end'])\n",
        "  share['Is_month_start']=LE.fit_transform(share['Is_month_start'])\n",
        "  share['Is_quarter_end']=LE.fit_transform(share['Is_quarter_end'])\n",
        "  share['Is_quarter_start']=LE.fit_transform(share['Is_quarter_start'])\n",
        "  share['Is_year_end']=LE.fit_transform(share['Is_year_end'])\n",
        "  share['Is_year_start']=LE.fit_transform(share['Is_year_start'])\n",
        "\n",
        "  pass"
      ],
      "metadata": {
        "id": "rMAa9Btpy547"
      },
      "execution_count": null,
      "outputs": []
    },
    {
      "cell_type": "code",
      "source": [
        "labelencode(data_new)"
      ],
      "metadata": {
        "id": "yM-CzYuEy8Yz"
      },
      "execution_count": null,
      "outputs": []
    },
    {
      "cell_type": "code",
      "source": [
        "# Dropping rows with Na values\n",
        "data_new=data_new.iloc[33:]"
      ],
      "metadata": {
        "id": "BjvKxdJDp3mO"
      },
      "execution_count": null,
      "outputs": []
    },
    {
      "cell_type": "code",
      "source": [
        "data_new.reset_index(drop=True,inplace=True)"
      ],
      "metadata": {
        "id": "1C6Lq3mIp5Sy"
      },
      "execution_count": null,
      "outputs": []
    },
    {
      "cell_type": "code",
      "source": [
        "data_new.head(10)"
      ],
      "metadata": {
        "colab": {
          "base_uri": "https://localhost:8080/",
          "height": 456
        },
        "id": "ouGuW2yslTF2",
        "outputId": "4982578d-73ce-45ab-d3af-b6e6f4254397"
      },
      "execution_count": null,
      "outputs": [
        {
          "output_type": "execute_result",
          "data": {
            "text/plain": [
              "     Close  Month  Week  Day  Dayofweek  Dayofyear  Is_month_end  \\\n",
              "0  2681.05      2     8   19          3         50         False   \n",
              "1  2675.55      2     8   20          4         51         False   \n",
              "2  2696.65      2     9   23          0         54         False   \n",
              "3  2704.75      2     9   24          1         55         False   \n",
              "4  2672.20      2     9   25          2         56         False   \n",
              "5  2656.45      2     9   26          3         57         False   \n",
              "6  2662.35      2     9   27          4         58         False   \n",
              "7  2675.25      2     9   28          5         59          True   \n",
              "8  2669.40      3    10    2          0         61         False   \n",
              "9  2776.00      3    10    3          1         62         False   \n",
              "\n",
              "   Is_month_start  Is_quarter_end  Is_quarter_start  ...        EMA_9  \\\n",
              "0               0               0                 0  ...  2544.512458   \n",
              "1               0               0                 0  ...  2557.952641   \n",
              "2               0               0                 0  ...  2572.142041   \n",
              "3               0               0                 0  ...  2585.677271   \n",
              "4               0               0                 0  ...  2594.490366   \n",
              "5               0               0                 0  ...  2600.789786   \n",
              "6               0               0                 0  ...  2607.038164   \n",
              "7               0               0                 0  ...  2613.951311   \n",
              "8               0               0                 0  ...  2619.563371   \n",
              "9               0               0                 0  ...  2635.377434   \n",
              "\n",
              "     SMA_5    SMA_10       SMA_15     SMA_20    SMA_25       SMA_30  \\\n",
              "0  2580.48  2544.450  2537.196667  2531.5275  2529.408  2520.553333   \n",
              "1  2623.16  2556.765  2545.923333  2539.6150  2535.552  2529.148333   \n",
              "2  2654.74  2568.855  2560.230000  2548.7700  2541.854  2537.576667   \n",
              "3  2678.73  2588.040  2572.933333  2558.8275  2548.758  2543.991667   \n",
              "4  2686.04  2611.145  2580.530000  2567.3350  2555.206  2549.408333   \n",
              "5  2681.12  2630.800  2590.006667  2573.1775  2561.446  2554.693333   \n",
              "6  2678.48  2650.820  2597.336667  2579.0625  2567.388  2559.373333   \n",
              "7  2674.20  2664.470  2603.970000  2588.7225  2573.856  2563.911667   \n",
              "8  2667.13  2672.930  2614.403333  2596.4825  2580.488  2568.486667   \n",
              "9  2687.89  2686.965  2636.726667  2607.3700  2591.446  2577.320000   \n",
              "\n",
              "        MACD        RSI  Stochastic  \n",
              "0  20.843289  66.295751   97.542273  \n",
              "1  27.935238  65.476238   91.252822  \n",
              "2  34.747787  67.153730   91.228374  \n",
              "3  40.289792  67.800543   91.498316  \n",
              "4  41.694729  62.476296   80.538721  \n",
              "5  41.116357  60.020247   75.235690  \n",
              "6  40.642396  60.644391   77.222222  \n",
              "7  40.793755  62.039780   81.565657  \n",
              "8  39.994839  60.983804   78.586572  \n",
              "9  47.127669  70.752873   95.918367  \n",
              "\n",
              "[10 rows x 22 columns]"
            ],
            "text/html": [
              "\n",
              "  <div id=\"df-50078f34-c62f-4869-8d1c-477f75a25d33\">\n",
              "    <div class=\"colab-df-container\">\n",
              "      <div>\n",
              "<style scoped>\n",
              "    .dataframe tbody tr th:only-of-type {\n",
              "        vertical-align: middle;\n",
              "    }\n",
              "\n",
              "    .dataframe tbody tr th {\n",
              "        vertical-align: top;\n",
              "    }\n",
              "\n",
              "    .dataframe thead th {\n",
              "        text-align: right;\n",
              "    }\n",
              "</style>\n",
              "<table border=\"1\" class=\"dataframe\">\n",
              "  <thead>\n",
              "    <tr style=\"text-align: right;\">\n",
              "      <th></th>\n",
              "      <th>Close</th>\n",
              "      <th>Month</th>\n",
              "      <th>Week</th>\n",
              "      <th>Day</th>\n",
              "      <th>Dayofweek</th>\n",
              "      <th>Dayofyear</th>\n",
              "      <th>Is_month_end</th>\n",
              "      <th>Is_month_start</th>\n",
              "      <th>Is_quarter_end</th>\n",
              "      <th>Is_quarter_start</th>\n",
              "      <th>...</th>\n",
              "      <th>EMA_9</th>\n",
              "      <th>SMA_5</th>\n",
              "      <th>SMA_10</th>\n",
              "      <th>SMA_15</th>\n",
              "      <th>SMA_20</th>\n",
              "      <th>SMA_25</th>\n",
              "      <th>SMA_30</th>\n",
              "      <th>MACD</th>\n",
              "      <th>RSI</th>\n",
              "      <th>Stochastic</th>\n",
              "    </tr>\n",
              "  </thead>\n",
              "  <tbody>\n",
              "    <tr>\n",
              "      <th>0</th>\n",
              "      <td>2681.05</td>\n",
              "      <td>2</td>\n",
              "      <td>8</td>\n",
              "      <td>19</td>\n",
              "      <td>3</td>\n",
              "      <td>50</td>\n",
              "      <td>False</td>\n",
              "      <td>0</td>\n",
              "      <td>0</td>\n",
              "      <td>0</td>\n",
              "      <td>...</td>\n",
              "      <td>2544.512458</td>\n",
              "      <td>2580.48</td>\n",
              "      <td>2544.450</td>\n",
              "      <td>2537.196667</td>\n",
              "      <td>2531.5275</td>\n",
              "      <td>2529.408</td>\n",
              "      <td>2520.553333</td>\n",
              "      <td>20.843289</td>\n",
              "      <td>66.295751</td>\n",
              "      <td>97.542273</td>\n",
              "    </tr>\n",
              "    <tr>\n",
              "      <th>1</th>\n",
              "      <td>2675.55</td>\n",
              "      <td>2</td>\n",
              "      <td>8</td>\n",
              "      <td>20</td>\n",
              "      <td>4</td>\n",
              "      <td>51</td>\n",
              "      <td>False</td>\n",
              "      <td>0</td>\n",
              "      <td>0</td>\n",
              "      <td>0</td>\n",
              "      <td>...</td>\n",
              "      <td>2557.952641</td>\n",
              "      <td>2623.16</td>\n",
              "      <td>2556.765</td>\n",
              "      <td>2545.923333</td>\n",
              "      <td>2539.6150</td>\n",
              "      <td>2535.552</td>\n",
              "      <td>2529.148333</td>\n",
              "      <td>27.935238</td>\n",
              "      <td>65.476238</td>\n",
              "      <td>91.252822</td>\n",
              "    </tr>\n",
              "    <tr>\n",
              "      <th>2</th>\n",
              "      <td>2696.65</td>\n",
              "      <td>2</td>\n",
              "      <td>9</td>\n",
              "      <td>23</td>\n",
              "      <td>0</td>\n",
              "      <td>54</td>\n",
              "      <td>False</td>\n",
              "      <td>0</td>\n",
              "      <td>0</td>\n",
              "      <td>0</td>\n",
              "      <td>...</td>\n",
              "      <td>2572.142041</td>\n",
              "      <td>2654.74</td>\n",
              "      <td>2568.855</td>\n",
              "      <td>2560.230000</td>\n",
              "      <td>2548.7700</td>\n",
              "      <td>2541.854</td>\n",
              "      <td>2537.576667</td>\n",
              "      <td>34.747787</td>\n",
              "      <td>67.153730</td>\n",
              "      <td>91.228374</td>\n",
              "    </tr>\n",
              "    <tr>\n",
              "      <th>3</th>\n",
              "      <td>2704.75</td>\n",
              "      <td>2</td>\n",
              "      <td>9</td>\n",
              "      <td>24</td>\n",
              "      <td>1</td>\n",
              "      <td>55</td>\n",
              "      <td>False</td>\n",
              "      <td>0</td>\n",
              "      <td>0</td>\n",
              "      <td>0</td>\n",
              "      <td>...</td>\n",
              "      <td>2585.677271</td>\n",
              "      <td>2678.73</td>\n",
              "      <td>2588.040</td>\n",
              "      <td>2572.933333</td>\n",
              "      <td>2558.8275</td>\n",
              "      <td>2548.758</td>\n",
              "      <td>2543.991667</td>\n",
              "      <td>40.289792</td>\n",
              "      <td>67.800543</td>\n",
              "      <td>91.498316</td>\n",
              "    </tr>\n",
              "    <tr>\n",
              "      <th>4</th>\n",
              "      <td>2672.20</td>\n",
              "      <td>2</td>\n",
              "      <td>9</td>\n",
              "      <td>25</td>\n",
              "      <td>2</td>\n",
              "      <td>56</td>\n",
              "      <td>False</td>\n",
              "      <td>0</td>\n",
              "      <td>0</td>\n",
              "      <td>0</td>\n",
              "      <td>...</td>\n",
              "      <td>2594.490366</td>\n",
              "      <td>2686.04</td>\n",
              "      <td>2611.145</td>\n",
              "      <td>2580.530000</td>\n",
              "      <td>2567.3350</td>\n",
              "      <td>2555.206</td>\n",
              "      <td>2549.408333</td>\n",
              "      <td>41.694729</td>\n",
              "      <td>62.476296</td>\n",
              "      <td>80.538721</td>\n",
              "    </tr>\n",
              "    <tr>\n",
              "      <th>5</th>\n",
              "      <td>2656.45</td>\n",
              "      <td>2</td>\n",
              "      <td>9</td>\n",
              "      <td>26</td>\n",
              "      <td>3</td>\n",
              "      <td>57</td>\n",
              "      <td>False</td>\n",
              "      <td>0</td>\n",
              "      <td>0</td>\n",
              "      <td>0</td>\n",
              "      <td>...</td>\n",
              "      <td>2600.789786</td>\n",
              "      <td>2681.12</td>\n",
              "      <td>2630.800</td>\n",
              "      <td>2590.006667</td>\n",
              "      <td>2573.1775</td>\n",
              "      <td>2561.446</td>\n",
              "      <td>2554.693333</td>\n",
              "      <td>41.116357</td>\n",
              "      <td>60.020247</td>\n",
              "      <td>75.235690</td>\n",
              "    </tr>\n",
              "    <tr>\n",
              "      <th>6</th>\n",
              "      <td>2662.35</td>\n",
              "      <td>2</td>\n",
              "      <td>9</td>\n",
              "      <td>27</td>\n",
              "      <td>4</td>\n",
              "      <td>58</td>\n",
              "      <td>False</td>\n",
              "      <td>0</td>\n",
              "      <td>0</td>\n",
              "      <td>0</td>\n",
              "      <td>...</td>\n",
              "      <td>2607.038164</td>\n",
              "      <td>2678.48</td>\n",
              "      <td>2650.820</td>\n",
              "      <td>2597.336667</td>\n",
              "      <td>2579.0625</td>\n",
              "      <td>2567.388</td>\n",
              "      <td>2559.373333</td>\n",
              "      <td>40.642396</td>\n",
              "      <td>60.644391</td>\n",
              "      <td>77.222222</td>\n",
              "    </tr>\n",
              "    <tr>\n",
              "      <th>7</th>\n",
              "      <td>2675.25</td>\n",
              "      <td>2</td>\n",
              "      <td>9</td>\n",
              "      <td>28</td>\n",
              "      <td>5</td>\n",
              "      <td>59</td>\n",
              "      <td>True</td>\n",
              "      <td>0</td>\n",
              "      <td>0</td>\n",
              "      <td>0</td>\n",
              "      <td>...</td>\n",
              "      <td>2613.951311</td>\n",
              "      <td>2674.20</td>\n",
              "      <td>2664.470</td>\n",
              "      <td>2603.970000</td>\n",
              "      <td>2588.7225</td>\n",
              "      <td>2573.856</td>\n",
              "      <td>2563.911667</td>\n",
              "      <td>40.793755</td>\n",
              "      <td>62.039780</td>\n",
              "      <td>81.565657</td>\n",
              "    </tr>\n",
              "    <tr>\n",
              "      <th>8</th>\n",
              "      <td>2669.40</td>\n",
              "      <td>3</td>\n",
              "      <td>10</td>\n",
              "      <td>2</td>\n",
              "      <td>0</td>\n",
              "      <td>61</td>\n",
              "      <td>False</td>\n",
              "      <td>0</td>\n",
              "      <td>0</td>\n",
              "      <td>0</td>\n",
              "      <td>...</td>\n",
              "      <td>2619.563371</td>\n",
              "      <td>2667.13</td>\n",
              "      <td>2672.930</td>\n",
              "      <td>2614.403333</td>\n",
              "      <td>2596.4825</td>\n",
              "      <td>2580.488</td>\n",
              "      <td>2568.486667</td>\n",
              "      <td>39.994839</td>\n",
              "      <td>60.983804</td>\n",
              "      <td>78.586572</td>\n",
              "    </tr>\n",
              "    <tr>\n",
              "      <th>9</th>\n",
              "      <td>2776.00</td>\n",
              "      <td>3</td>\n",
              "      <td>10</td>\n",
              "      <td>3</td>\n",
              "      <td>1</td>\n",
              "      <td>62</td>\n",
              "      <td>False</td>\n",
              "      <td>0</td>\n",
              "      <td>0</td>\n",
              "      <td>0</td>\n",
              "      <td>...</td>\n",
              "      <td>2635.377434</td>\n",
              "      <td>2687.89</td>\n",
              "      <td>2686.965</td>\n",
              "      <td>2636.726667</td>\n",
              "      <td>2607.3700</td>\n",
              "      <td>2591.446</td>\n",
              "      <td>2577.320000</td>\n",
              "      <td>47.127669</td>\n",
              "      <td>70.752873</td>\n",
              "      <td>95.918367</td>\n",
              "    </tr>\n",
              "  </tbody>\n",
              "</table>\n",
              "<p>10 rows × 22 columns</p>\n",
              "</div>\n",
              "      <button class=\"colab-df-convert\" onclick=\"convertToInteractive('df-50078f34-c62f-4869-8d1c-477f75a25d33')\"\n",
              "              title=\"Convert this dataframe to an interactive table.\"\n",
              "              style=\"display:none;\">\n",
              "        \n",
              "  <svg xmlns=\"http://www.w3.org/2000/svg\" height=\"24px\"viewBox=\"0 0 24 24\"\n",
              "       width=\"24px\">\n",
              "    <path d=\"M0 0h24v24H0V0z\" fill=\"none\"/>\n",
              "    <path d=\"M18.56 5.44l.94 2.06.94-2.06 2.06-.94-2.06-.94-.94-2.06-.94 2.06-2.06.94zm-11 1L8.5 8.5l.94-2.06 2.06-.94-2.06-.94L8.5 2.5l-.94 2.06-2.06.94zm10 10l.94 2.06.94-2.06 2.06-.94-2.06-.94-.94-2.06-.94 2.06-2.06.94z\"/><path d=\"M17.41 7.96l-1.37-1.37c-.4-.4-.92-.59-1.43-.59-.52 0-1.04.2-1.43.59L10.3 9.45l-7.72 7.72c-.78.78-.78 2.05 0 2.83L4 21.41c.39.39.9.59 1.41.59.51 0 1.02-.2 1.41-.59l7.78-7.78 2.81-2.81c.8-.78.8-2.07 0-2.86zM5.41 20L4 18.59l7.72-7.72 1.47 1.35L5.41 20z\"/>\n",
              "  </svg>\n",
              "      </button>\n",
              "      \n",
              "  <style>\n",
              "    .colab-df-container {\n",
              "      display:flex;\n",
              "      flex-wrap:wrap;\n",
              "      gap: 12px;\n",
              "    }\n",
              "\n",
              "    .colab-df-convert {\n",
              "      background-color: #E8F0FE;\n",
              "      border: none;\n",
              "      border-radius: 50%;\n",
              "      cursor: pointer;\n",
              "      display: none;\n",
              "      fill: #1967D2;\n",
              "      height: 32px;\n",
              "      padding: 0 0 0 0;\n",
              "      width: 32px;\n",
              "    }\n",
              "\n",
              "    .colab-df-convert:hover {\n",
              "      background-color: #E2EBFA;\n",
              "      box-shadow: 0px 1px 2px rgba(60, 64, 67, 0.3), 0px 1px 3px 1px rgba(60, 64, 67, 0.15);\n",
              "      fill: #174EA6;\n",
              "    }\n",
              "\n",
              "    [theme=dark] .colab-df-convert {\n",
              "      background-color: #3B4455;\n",
              "      fill: #D2E3FC;\n",
              "    }\n",
              "\n",
              "    [theme=dark] .colab-df-convert:hover {\n",
              "      background-color: #434B5C;\n",
              "      box-shadow: 0px 1px 3px 1px rgba(0, 0, 0, 0.15);\n",
              "      filter: drop-shadow(0px 1px 2px rgba(0, 0, 0, 0.3));\n",
              "      fill: #FFFFFF;\n",
              "    }\n",
              "  </style>\n",
              "\n",
              "      <script>\n",
              "        const buttonEl =\n",
              "          document.querySelector('#df-50078f34-c62f-4869-8d1c-477f75a25d33 button.colab-df-convert');\n",
              "        buttonEl.style.display =\n",
              "          google.colab.kernel.accessAllowed ? 'block' : 'none';\n",
              "\n",
              "        async function convertToInteractive(key) {\n",
              "          const element = document.querySelector('#df-50078f34-c62f-4869-8d1c-477f75a25d33');\n",
              "          const dataTable =\n",
              "            await google.colab.kernel.invokeFunction('convertToInteractive',\n",
              "                                                     [key], {});\n",
              "          if (!dataTable) return;\n",
              "\n",
              "          const docLinkHtml = 'Like what you see? Visit the ' +\n",
              "            '<a target=\"_blank\" href=https://colab.research.google.com/notebooks/data_table.ipynb>data table notebook</a>'\n",
              "            + ' to learn more about interactive tables.';\n",
              "          element.innerHTML = '';\n",
              "          dataTable['output_type'] = 'display_data';\n",
              "          await google.colab.output.renderOutput(dataTable, element);\n",
              "          const docLink = document.createElement('div');\n",
              "          docLink.innerHTML = docLinkHtml;\n",
              "          element.appendChild(docLink);\n",
              "        }\n",
              "      </script>\n",
              "    </div>\n",
              "  </div>\n",
              "  "
            ]
          },
          "metadata": {},
          "execution_count": 25
        }
      ]
    },
    {
      "cell_type": "code",
      "source": [
        "data_new.drop(['Year','High','Low','Open','Prev Close','Volume','Date'],axis=1)"
      ],
      "metadata": {
        "id": "YpeD2D2kp-6h"
      },
      "execution_count": null,
      "outputs": []
    },
    {
      "cell_type": "code",
      "source": [
        "# Shifting the features a row up\n",
        "data_new[['EMA_9', 'SMA_5', 'SMA_10', 'SMA_15',\n",
        "       'SMA_20', 'SMA_25', 'SMA_30', 'MACD', 'RSI', 'Stochastic']]=data_new[['EMA_9', 'SMA_5', 'SMA_10', 'SMA_15',\n",
        "       'SMA_20', 'SMA_25', 'SMA_30', 'MACD', 'RSI', 'Stochastic']].shift(-1)"
      ],
      "metadata": {
        "id": "AixZvI8dqH5w"
      },
      "execution_count": null,
      "outputs": []
    },
    {
      "cell_type": "markdown",
      "source": [
        "##TRAIN TEST SPLIT"
      ],
      "metadata": {
        "id": "Ja0q6NwUl-zF"
      }
    },
    {
      "cell_type": "code",
      "source": [
        "# Splitting the dataset into 70% training, 15% validation and 15% test\n",
        "# train test split indexes\n",
        "test_size  = 0.15\n",
        "valid_size = 0.15\n",
        "\n",
        "test_split_idx  = int(data_new.shape[0] * (1-test_size))\n",
        "valid_split_idx = int(data_new.shape[0] * (1-(valid_size+test_size)))  \n",
        "\n",
        "\n",
        "#train test split tcs\n",
        "\n",
        "train= data_new.loc[:valid_split_idx]\n",
        "valid= data_new.loc[valid_split_idx+1:test_split_idx]\n",
        "test= data_new.loc[test_split_idx+1:]"
      ],
      "metadata": {
        "id": "KzM663Lfl6MZ"
      },
      "execution_count": null,
      "outputs": []
    },
    {
      "cell_type": "code",
      "source": [
        "y_train = train['Close']\n",
        "X_train = train.drop(['Close'], 1)\n",
        "\n",
        "y_valid = valid['Close']\n",
        "X_valid = valid.drop(['Close'], 1)\n",
        "\n",
        "y_test = test['Close']\n",
        "X_test = test.drop(['Close'], 1)"
      ],
      "metadata": {
        "id": "MGVJsmmhmCub"
      },
      "execution_count": null,
      "outputs": []
    },
    {
      "cell_type": "markdown",
      "source": [
        "##XGBOOST MODEL"
      ],
      "metadata": {
        "id": "jW-b4yVImHEC"
      }
    },
    {
      "cell_type": "code",
      "source": [
        "parameters = {\n",
        "    'n_estimators': [500,600],\n",
        "    'learning_rate': [0.1],\n",
        "    'max_depth': [8, 12, 15],\n",
        "    'gamma': [ 0.005, 0.01,],\n",
        "    'random_state': [42],\n",
        "    'min_child_weight':[4,3],\n",
        "    'subsample':[0.8,1],\n",
        "    'colsample_bytree':[1],\n",
        "    'colsample_bylevel':[1]\n",
        "}\n",
        "kfold=KFold(5)\n",
        "eval_set = [(X_train, y_train), (X_valid, y_valid)]\n",
        "model = XGBRegressor(objective='reg:squarederror',n_jobs=-1)\n",
        "clf = GridSearchCV(model, parameters,cv=kfold,scoring='neg_mean_absolute_error',verbose=0)\n",
        "\n",
        "clf.fit(X_train, y_train)\n",
        "\n",
        "print(f'Best params: {clf.best_params_}')\n",
        "print(f'Best validation score = {clf.best_score_}')"
      ],
      "metadata": {
        "colab": {
          "base_uri": "https://localhost:8080/"
        },
        "id": "ERoGAvL1mFTN",
        "outputId": "8484c6cf-26d3-4db2-c4b5-ed57813c34d2"
      },
      "execution_count": null,
      "outputs": [
        {
          "output_type": "stream",
          "name": "stdout",
          "text": [
            "Best params: {'colsample_bylevel': 1, 'colsample_bytree': 1, 'gamma': 0.01, 'learning_rate': 0.1, 'max_depth': 12, 'min_child_weight': 3, 'n_estimators': 600, 'random_state': 42, 'subsample': 0.8}\n",
            "Best validation score = -21.5576460125263\n"
          ]
        }
      ]
    },
    {
      "cell_type": "code",
      "source": [
        "X_train.info()"
      ],
      "metadata": {
        "colab": {
          "base_uri": "https://localhost:8080/"
        },
        "id": "cED3_xNmmMFy",
        "outputId": "1b8a4819-fe3d-4c75-e21d-9997b9bba5ba"
      },
      "execution_count": null,
      "outputs": [
        {
          "output_type": "stream",
          "name": "stdout",
          "text": [
            "<class 'pandas.core.frame.DataFrame'>\n",
            "RangeIndex: 324 entries, 0 to 323\n",
            "Data columns (total 21 columns):\n",
            " #   Column            Non-Null Count  Dtype  \n",
            "---  ------            --------------  -----  \n",
            " 0   Month             324 non-null    int64  \n",
            " 1   Week              324 non-null    int64  \n",
            " 2   Day               324 non-null    int64  \n",
            " 3   Dayofweek         324 non-null    int64  \n",
            " 4   Dayofyear         324 non-null    int64  \n",
            " 5   Is_month_end      324 non-null    bool   \n",
            " 6   Is_month_start    324 non-null    int64  \n",
            " 7   Is_quarter_end    324 non-null    int64  \n",
            " 8   Is_quarter_start  324 non-null    int64  \n",
            " 9   Is_year_end       324 non-null    int64  \n",
            " 10  Is_year_start     324 non-null    int64  \n",
            " 11  EMA_9             324 non-null    float64\n",
            " 12  SMA_5             324 non-null    float64\n",
            " 13  SMA_10            324 non-null    float64\n",
            " 14  SMA_15            324 non-null    float64\n",
            " 15  SMA_20            324 non-null    float64\n",
            " 16  SMA_25            324 non-null    float64\n",
            " 17  SMA_30            324 non-null    float64\n",
            " 18  MACD              324 non-null    float64\n",
            " 19  RSI               324 non-null    float64\n",
            " 20  Stochastic        324 non-null    float64\n",
            "dtypes: bool(1), float64(10), int64(10)\n",
            "memory usage: 51.1 KB\n"
          ]
        }
      ]
    },
    {
      "cell_type": "code",
      "source": [
        "model = XGBRegressor(**clf.best_params_, objective='reg:squarederror',n_jobs=-1)\n",
        "model.fit(X_train, y_train, eval_set=eval_set, verbose=False)\n",
        "y_pred=model.predict(X_test)\n",
        "mean_absolute_error(y_test,y_pred)"
      ],
      "metadata": {
        "colab": {
          "base_uri": "https://localhost:8080/"
        },
        "id": "mxs9yL8MpJ0V",
        "outputId": "2f63431f-84b0-4231-b2e0-14805f65d617"
      },
      "execution_count": null,
      "outputs": [
        {
          "output_type": "execute_result",
          "data": {
            "text/plain": [
              "34.74509454257249"
            ]
          },
          "metadata": {},
          "execution_count": 32
        }
      ]
    },
    {
      "cell_type": "markdown",
      "source": [
        "##Handtuning the hyperparameters"
      ],
      "metadata": {
        "id": "XbF5fKbopPPT"
      }
    },
    {
      "cell_type": "code",
      "source": [
        "params={'colsample_bylevel': 1,\n",
        " 'colsample_bytree': 0.6,\n",
        " 'gamma': 0.005,\n",
        " 'learning_rate': 0.07,\n",
        " 'max_depth': 10,\n",
        " 'min_child_weight': 1,\n",
        " 'n_estimators': 170,\n",
        " 'random_state': 42,\n",
        " 'subsample': 0.6}\n",
        "eval_set = [(X_train, y_train), (X_valid, y_valid)]"
      ],
      "metadata": {
        "id": "hv7tiSEppKTS"
      },
      "execution_count": null,
      "outputs": []
    },
    {
      "cell_type": "code",
      "source": [
        "xgb=XGBRegressor(**params, objective='reg:squarederror',n_jobs=-1)\n",
        "xgb.fit(X_train, y_train, eval_set=eval_set, verbose=False)\n",
        "y_pred = xgb.predict(X_test)\n",
        "mean_absolute_error(y_test, y_pred)"
      ],
      "metadata": {
        "colab": {
          "base_uri": "https://localhost:8080/"
        },
        "id": "g229FJJbpTLI",
        "outputId": "812b8a10-53c0-4865-e063-eb8ea6a553ca"
      },
      "execution_count": null,
      "outputs": [
        {
          "output_type": "execute_result",
          "data": {
            "text/plain": [
              "24.049744536911252"
            ]
          },
          "metadata": {},
          "execution_count": 34
        }
      ]
    },
    {
      "cell_type": "code",
      "source": [
        "plt.figure(figsize=(15,8))\n",
        "sns.lineplot(y=y_pred,x=np.arange(69))\n",
        "sns.lineplot(y=y_test,x=np.arange(69))\n",
        "plt.legend(['Y-Predicted','Y-True'])\n",
        "plt.title('Y-True vs Y-Predicted')\n",
        "plt.show()"
      ],
      "metadata": {
        "colab": {
          "base_uri": "https://localhost:8080/",
          "height": 475
        },
        "id": "05EKeoMtpWCF",
        "outputId": "364e329e-d84e-47bb-c8ac-a18cbf01bd58"
      },
      "execution_count": null,
      "outputs": [
        {
          "output_type": "display_data",
          "data": {
            "text/plain": [
              "<Figure size 1080x576 with 1 Axes>"
            ],
            "image/png": "[encoded data removed]"
          },
          "metadata": {
            "needs_background": "light"
          }
        }
      ]
    }
  ]
}